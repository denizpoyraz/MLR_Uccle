{
 "cells": [
  {
   "cell_type": "code",
   "execution_count": 1,
   "metadata": {},
   "outputs": [],
   "source": [
    "from LOTUS_regression.regression import mzm_regression\n",
    "from LOTUS_regression.predictors import load_data\n",
    "from LOTUS_regression.predictors.seasonal import add_seasonal_components\n",
    "import LOTUS_regression.tests as tests\n",
    "import numpy as np\n",
    "import pandas as pd\n",
    "import matplotlib.pyplot as plt\n",
    "import statsmodels.api as sm\n",
    "from datetime import datetime\n",
    "from scipy import stats"
   ]
  },
  {
   "cell_type": "code",
   "execution_count": 2,
   "metadata": {},
   "outputs": [
    {
     "data": {
      "text/html": [
       "<div>\n",
       "<style scoped>\n",
       "    .dataframe tbody tr th:only-of-type {\n",
       "        vertical-align: middle;\n",
       "    }\n",
       "\n",
       "    .dataframe tbody tr th {\n",
       "        vertical-align: top;\n",
       "    }\n",
       "\n",
       "    .dataframe thead th {\n",
       "        text-align: right;\n",
       "    }\n",
       "</style>\n",
       "<table border=\"1\" class=\"dataframe\">\n",
       "  <thead>\n",
       "    <tr style=\"text-align: right;\">\n",
       "      <th></th>\n",
       "      <th>0km</th>\n",
       "      <th>1km</th>\n",
       "      <th>2km</th>\n",
       "      <th>3km</th>\n",
       "      <th>4km</th>\n",
       "      <th>5km</th>\n",
       "      <th>6km</th>\n",
       "      <th>7km</th>\n",
       "      <th>8km</th>\n",
       "      <th>9km</th>\n",
       "      <th>...</th>\n",
       "      <th>26km_ds</th>\n",
       "      <th>27km_ds</th>\n",
       "      <th>28km_ds</th>\n",
       "      <th>29km_ds</th>\n",
       "      <th>30km_ds</th>\n",
       "      <th>31km_ds</th>\n",
       "      <th>32km_ds</th>\n",
       "      <th>33km_ds</th>\n",
       "      <th>34km_ds</th>\n",
       "      <th>35km_ds</th>\n",
       "    </tr>\n",
       "    <tr>\n",
       "      <th>date</th>\n",
       "      <th></th>\n",
       "      <th></th>\n",
       "      <th></th>\n",
       "      <th></th>\n",
       "      <th></th>\n",
       "      <th></th>\n",
       "      <th></th>\n",
       "      <th></th>\n",
       "      <th></th>\n",
       "      <th></th>\n",
       "      <th></th>\n",
       "      <th></th>\n",
       "      <th></th>\n",
       "      <th></th>\n",
       "      <th></th>\n",
       "      <th></th>\n",
       "      <th></th>\n",
       "      <th></th>\n",
       "      <th></th>\n",
       "      <th></th>\n",
       "      <th></th>\n",
       "    </tr>\n",
       "  </thead>\n",
       "  <tbody>\n",
       "    <tr>\n",
       "      <th>1969-01-01</th>\n",
       "      <td>2.912</td>\n",
       "      <td>2.989</td>\n",
       "      <td>3.170</td>\n",
       "      <td>3.050</td>\n",
       "      <td>2.810</td>\n",
       "      <td>2.582</td>\n",
       "      <td>2.356</td>\n",
       "      <td>1.948</td>\n",
       "      <td>1.794</td>\n",
       "      <td>2.618</td>\n",
       "      <td>...</td>\n",
       "      <td>1.899391</td>\n",
       "      <td>1.407957</td>\n",
       "      <td>1.148733</td>\n",
       "      <td>1.123844</td>\n",
       "      <td>1.637756</td>\n",
       "      <td>2.476000</td>\n",
       "      <td>2.678625</td>\n",
       "      <td>2.753853</td>\n",
       "      <td>2.261526</td>\n",
       "      <td>NaN</td>\n",
       "    </tr>\n",
       "    <tr>\n",
       "      <th>1969-02-01</th>\n",
       "      <td>2.508</td>\n",
       "      <td>1.944</td>\n",
       "      <td>1.801</td>\n",
       "      <td>1.997</td>\n",
       "      <td>2.016</td>\n",
       "      <td>1.823</td>\n",
       "      <td>2.131</td>\n",
       "      <td>2.838</td>\n",
       "      <td>4.030</td>\n",
       "      <td>5.592</td>\n",
       "      <td>...</td>\n",
       "      <td>1.437851</td>\n",
       "      <td>1.544872</td>\n",
       "      <td>1.850340</td>\n",
       "      <td>1.919000</td>\n",
       "      <td>1.519766</td>\n",
       "      <td>1.687128</td>\n",
       "      <td>1.881465</td>\n",
       "      <td>1.883462</td>\n",
       "      <td>1.704750</td>\n",
       "      <td>1.500143</td>\n",
       "    </tr>\n",
       "    <tr>\n",
       "      <th>1969-03-01</th>\n",
       "      <td>1.832</td>\n",
       "      <td>2.352</td>\n",
       "      <td>3.002</td>\n",
       "      <td>3.077</td>\n",
       "      <td>2.906</td>\n",
       "      <td>2.517</td>\n",
       "      <td>2.097</td>\n",
       "      <td>1.852</td>\n",
       "      <td>1.843</td>\n",
       "      <td>2.819</td>\n",
       "      <td>...</td>\n",
       "      <td>-0.071229</td>\n",
       "      <td>-0.020167</td>\n",
       "      <td>-0.296708</td>\n",
       "      <td>-0.118042</td>\n",
       "      <td>0.118042</td>\n",
       "      <td>0.292447</td>\n",
       "      <td>0.477867</td>\n",
       "      <td>0.689243</td>\n",
       "      <td>0.577750</td>\n",
       "      <td>0.911000</td>\n",
       "    </tr>\n",
       "    <tr>\n",
       "      <th>1969-04-01</th>\n",
       "      <td>2.000</td>\n",
       "      <td>3.164</td>\n",
       "      <td>3.738</td>\n",
       "      <td>3.569</td>\n",
       "      <td>3.055</td>\n",
       "      <td>2.574</td>\n",
       "      <td>2.121</td>\n",
       "      <td>1.859</td>\n",
       "      <td>1.617</td>\n",
       "      <td>1.599</td>\n",
       "      <td>...</td>\n",
       "      <td>0.138875</td>\n",
       "      <td>0.158833</td>\n",
       "      <td>0.284354</td>\n",
       "      <td>0.336833</td>\n",
       "      <td>0.498917</td>\n",
       "      <td>0.285667</td>\n",
       "      <td>0.205977</td>\n",
       "      <td>0.332538</td>\n",
       "      <td>0.405630</td>\n",
       "      <td>0.420824</td>\n",
       "    </tr>\n",
       "    <tr>\n",
       "      <th>1969-05-01</th>\n",
       "      <td>1.378</td>\n",
       "      <td>2.449</td>\n",
       "      <td>3.464</td>\n",
       "      <td>3.617</td>\n",
       "      <td>3.473</td>\n",
       "      <td>3.258</td>\n",
       "      <td>2.857</td>\n",
       "      <td>2.779</td>\n",
       "      <td>3.667</td>\n",
       "      <td>5.461</td>\n",
       "      <td>...</td>\n",
       "      <td>0.154104</td>\n",
       "      <td>0.326875</td>\n",
       "      <td>0.532583</td>\n",
       "      <td>0.592271</td>\n",
       "      <td>0.636562</td>\n",
       "      <td>0.671543</td>\n",
       "      <td>0.946175</td>\n",
       "      <td>1.012441</td>\n",
       "      <td>1.207348</td>\n",
       "      <td>0.985000</td>\n",
       "    </tr>\n",
       "  </tbody>\n",
       "</table>\n",
       "<p>5 rows × 72 columns</p>\n",
       "</div>"
      ],
      "text/plain": [
       "              0km    1km    2km    3km    4km    5km    6km    7km    8km  \\\n",
       "date                                                                        \n",
       "1969-01-01  2.912  2.989  3.170  3.050  2.810  2.582  2.356  1.948  1.794   \n",
       "1969-02-01  2.508  1.944  1.801  1.997  2.016  1.823  2.131  2.838  4.030   \n",
       "1969-03-01  1.832  2.352  3.002  3.077  2.906  2.517  2.097  1.852  1.843   \n",
       "1969-04-01  2.000  3.164  3.738  3.569  3.055  2.574  2.121  1.859  1.617   \n",
       "1969-05-01  1.378  2.449  3.464  3.617  3.473  3.258  2.857  2.779  3.667   \n",
       "\n",
       "              9km    ...      26km_ds   27km_ds   28km_ds   29km_ds   30km_ds  \\\n",
       "date                 ...                                                        \n",
       "1969-01-01  2.618    ...     1.899391  1.407957  1.148733  1.123844  1.637756   \n",
       "1969-02-01  5.592    ...     1.437851  1.544872  1.850340  1.919000  1.519766   \n",
       "1969-03-01  2.819    ...    -0.071229 -0.020167 -0.296708 -0.118042  0.118042   \n",
       "1969-04-01  1.599    ...     0.138875  0.158833  0.284354  0.336833  0.498917   \n",
       "1969-05-01  5.461    ...     0.154104  0.326875  0.532583  0.592271  0.636562   \n",
       "\n",
       "             31km_ds   32km_ds   33km_ds   34km_ds   35km_ds  \n",
       "date                                                          \n",
       "1969-01-01  2.476000  2.678625  2.753853  2.261526       NaN  \n",
       "1969-02-01  1.687128  1.881465  1.883462  1.704750  1.500143  \n",
       "1969-03-01  0.292447  0.477867  0.689243  0.577750  0.911000  \n",
       "1969-04-01  0.285667  0.205977  0.332538  0.405630  0.420824  \n",
       "1969-05-01  0.671543  0.946175  1.012441  1.207348  0.985000  \n",
       "\n",
       "[5 rows x 72 columns]"
      ]
     },
     "execution_count": 2,
     "metadata": {},
     "output_type": "execute_result"
    }
   ],
   "source": [
    "uccle =   pd.read_csv('/Volumes/HD3/KMI/MLR_Uccle/Files/1km_monthlymean_all.csv')\n",
    "\n",
    "uccle['date'] =  pd.to_datetime(uccle['date'], format='%Y-%m')\n",
    "uccle.set_index('date', inplace=True)\n",
    "uccle[0:5]"
   ]
  },
  {
   "cell_type": "code",
   "execution_count": 3,
   "metadata": {},
   "outputs": [
    {
     "name": "stdout",
     "output_type": "stream",
     "text": [
      "['enso', 'trop', 'solar', 'qboA', 'qboB', 'aod', 'linear_pre', 'linear_post', 'pre_const', 'post_const', 'gap_cons']\n"
     ]
    }
   ],
   "source": [
    "predictors = load_data('pred_baseline_ilt.csv')\n",
    "print(list(predictors))\n",
    "const_with_seasons = add_seasonal_components(predictors, {'pre_const': 4, 'post_const':4, 'gap_cons':4})\n"
   ]
  },
  {
   "cell_type": "code",
   "execution_count": 19,
   "metadata": {},
   "outputs": [
    {
     "name": "stdout",
     "output_type": "stream",
     "text": [
      "DatetimeIndex(['1977-02-01', '1977-03-01', '1977-04-01', '1977-05-01',\n",
      "               '1977-06-01', '1977-07-01', '1977-08-01', '1977-09-01',\n",
      "               '1977-10-01', '1977-11-01', '1977-12-01', '1978-01-01',\n",
      "               '1978-02-01', '1978-03-01', '1978-04-01', '1978-05-01',\n",
      "               '1978-06-01', '1978-07-01', '1978-08-01', '1978-09-01',\n",
      "               '1978-10-01', '1978-11-01', '1978-12-01', '1979-01-01',\n",
      "               '1979-02-01'],\n",
      "              dtype='datetime64[ns]', name='date', freq=None)\n"
     ]
    }
   ],
   "source": [
    "#uccle_time = uccle.loc['1977-02-01':'2017-06-01']\n",
    "uccle_time = uccle.loc['1977-02-01':'1979-02-01']\n",
    "\n",
    "tlist = uccle.loc['1977-02-01':'1979-02-01'].index\n",
    "print(tlist)\n",
    "uccle_time= uccle_time[uccle_time['5km']>0]"
   ]
  },
  {
   "cell_type": "code",
   "execution_count": 13,
   "metadata": {},
   "outputs": [
    {
     "name": "stdout",
     "output_type": "stream",
     "text": [
      "X 485\n",
      "Y 485\n"
     ]
    }
   ],
   "source": [
    "const_with_seasons, uccle_time = pd.DataFrame.align(const_with_seasons, uccle_time, axis=0)\n",
    "\n",
    "# (nsamples, npredictors) matrix\n",
    "X = const_with_seasons.values\n",
    "print('X', len(X))\n",
    "\n",
    "# (nsamples) array of observations\n",
    "Y = uccle_time['5km'].values\n",
    "print('Y',len(Y))\n",
    "\n",
    "regression_output = mzm_regression(X, Y)"
   ]
  },
  {
   "cell_type": "code",
   "execution_count": 16,
   "metadata": {},
   "outputs": [
    {
     "data": {
      "text/plain": [
       "[<matplotlib.lines.Line2D at 0x1c224621d0>]"
      ]
     },
     "execution_count": 16,
     "metadata": {},
     "output_type": "execute_result"
    },
    {
     "data": {
      "image/png": "[encoded data removed]",
      "text/plain": [
       "<Figure size 432x288 with 1 Axes>"
      ]
     },
     "metadata": {
      "needs_background": "light"
     },
     "output_type": "display_data"
    }
   ],
   "source": [
    "plt.plot(uccle_time.index, uccle_time['5km'])\n",
    "#plt.plot(uccle_time.index, regression_output['fit_values'])"
   ]
  },
  {
   "cell_type": "code",
   "execution_count": 15,
   "metadata": {},
   "outputs": [
    {
     "data": {
      "text/plain": [
       "{'enso': -2.9563191939408426,\n",
       " 'trop': -0.1058224738517406,\n",
       " 'solar': 2.512303647277811,\n",
       " 'qboA': -0.15447007986177574,\n",
       " 'qboB': -0.044615164358815296,\n",
       " 'aod': -0.4186506286871938,\n",
       " 'linear_pre': -2.50081161896302,\n",
       " 'linear_post': 2.1270411541343265e-14,\n",
       " 'pre_const': 1.2317465090007147,\n",
       " 'post_const': -3.0085381260840575e-14,\n",
       " 'gap_cons': -4.6470055708607346e-15,\n",
       " 'pre_const_sin0': -0.6090570626974134,\n",
       " 'pre_const_cos0': -0.6389560665991136,\n",
       " 'pre_const_sin1': -0.24333234634611678,\n",
       " 'pre_const_cos1': 0.008888406091134282,\n",
       " 'pre_const_sin2': -0.3257211995077611,\n",
       " 'pre_const_cos2': -0.14863248983241872,\n",
       " 'pre_const_sin3': 0.2351143861448628,\n",
       " 'pre_const_cos3': 0.42919969742798436,\n",
       " 'post_const_sin0': 0.0,\n",
       " 'post_const_cos0': 0.0,\n",
       " 'post_const_sin1': 0.0,\n",
       " 'post_const_cos1': 0.0,\n",
       " 'post_const_sin2': 0.0,\n",
       " 'post_const_cos2': 0.0,\n",
       " 'post_const_sin3': 0.0,\n",
       " 'post_const_cos3': 0.0,\n",
       " 'gap_cons_sin0': 0.0,\n",
       " 'gap_cons_cos0': 0.0,\n",
       " 'gap_cons_sin1': 0.0,\n",
       " 'gap_cons_cos1': 0.0,\n",
       " 'gap_cons_sin2': 0.0,\n",
       " 'gap_cons_cos2': 0.0,\n",
       " 'gap_cons_sin3': 0.0,\n",
       " 'gap_cons_cos3': 0.0}"
      ]
     },
     "execution_count": 15,
     "metadata": {},
     "output_type": "execute_result"
    }
   ],
   "source": [
    "param_list = dict(zip(list(const_with_seasons), regression_output['gls_results'].params))\n",
    "param_list"
   ]
  },
  {
   "cell_type": "code",
   "execution_count": null,
   "metadata": {},
   "outputs": [],
   "source": []
  }
 ],
 "metadata": {
  "kernelspec": {
   "display_name": "Python 3",
   "language": "python",
   "name": "python3"
  },
  "language_info": {
   "codemirror_mode": {
    "name": "ipython",
    "version": 3
   },
   "file_extension": ".py",
   "mimetype": "text/x-python",
   "name": "python",
   "nbconvert_exporter": "python",
   "pygments_lexer": "ipython3",
   "version": "3.7.1"
  }
 },
 "nbformat": 4,
 "nbformat_minor": 2
}
