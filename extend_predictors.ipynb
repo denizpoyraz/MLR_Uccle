{
 "cells": [
  {
   "cell_type": "code",
   "execution_count": 64,
   "metadata": {},
   "outputs": [],
   "source": [
    "from LOTUS_regression.regression import mzm_regression\n",
    "from LOTUS_regression.predictors import load_data\n",
    "import LOTUS_regression.tests as tests\n",
    "import numpy as np\n",
    "import pandas as pd\n",
    "import matplotlib.pyplot as plt\n",
    "import statsmodels as sm\n",
    "from LOTUS_regression.predictors.seasonal import add_seasonal_components\n",
    "from scipy.interpolate import interp1d\n",
    "from sklearn.linear_model import LinearRegression"
   ]
  },
  {
   "cell_type": "code",
   "execution_count": 31,
   "metadata": {},
   "outputs": [
    {
     "data": {
      "text/plain": [
       "DatetimeIndex(['1977-02-01', '1977-03-01', '1977-04-01', '1977-05-01',\n",
       "               '1977-06-01', '1977-07-01', '1977-08-01', '1977-09-01',\n",
       "               '1977-10-01', '1977-11-01',\n",
       "               ...\n",
       "               '2016-09-01', '2016-10-01', '2016-11-01', '2016-12-01',\n",
       "               '2017-01-01', '2017-02-01', '2017-03-01', '2017-04-01',\n",
       "               '2017-05-01', '2017-06-01'],\n",
       "              dtype='datetime64[ns]', name='time', length=485, freq=None)"
      ]
     },
     "execution_count": 31,
     "metadata": {},
     "output_type": "execute_result"
    }
   ],
   "source": [
    "predictors = load_data('pred_baseline_ilt.csv')\n",
    "predictors.index"
   ]
  },
  {
   "cell_type": "code",
   "execution_count": 46,
   "metadata": {},
   "outputs": [
    {
     "data": {
      "text/plain": [
       "DatetimeIndex(['1977-02-01', '1977-03-01', '1977-04-01', '1977-05-01',\n",
       "               '1977-06-01', '1977-07-01', '1977-08-01', '1977-09-01',\n",
       "               '1977-10-01', '1977-11-01',\n",
       "               ...\n",
       "               '1996-04-01', '1996-05-01', '1996-06-01', '1996-07-01',\n",
       "               '1996-08-01', '1996-09-01', '1996-10-01', '1996-11-01',\n",
       "               '1996-12-01', '1997-01-01'],\n",
       "              dtype='datetime64[ns]', name='time', length=240, freq=None)"
      ]
     },
     "execution_count": 46,
     "metadata": {},
     "output_type": "execute_result"
    }
   ],
   "source": [
    "linearpre = predictors.loc['1977-02-01':'1997-01-01']['linear_pre'].tolist()\n",
    "#print(linearpre, len(linearpre))\n",
    "tind = predictors.loc['1977-02-01':'1997-01-01'].index\n",
    "tind"
   ]
  },
  {
   "cell_type": "code",
   "execution_count": 50,
   "metadata": {},
   "outputs": [],
   "source": [
    "forthyear = [0]*480\n",
    "twentyyear = [0]*240\n",
    "\n",
    "for t in range(480):\n",
    "    forthyear[t] = t+1\n",
    "    if(t >=240): twentyyear[t-240] = t+1\n",
    "#print(forthyear, twentyyear)"
   ]
  },
  {
   "cell_type": "code",
   "execution_count": 58,
   "metadata": {},
   "outputs": [],
   "source": [
    "uccles = pd.read_csv('/home/poyraden//MLR_Uccle/Files/1km_monthlymean.csv')\n",
    "uccles.rename(columns={'Unnamed: 0':'date'}, inplace=True)\n",
    "uccles['date'] =  pd.to_datetime(uccles['date'], format='%Y-%m')\n",
    "uccles.set_index('date', inplace=True)\n",
    "#uccles_time = uccles.loc['1969-01-01':'1977-01-01']\n",
    "\n",
    "tuc = uccles.loc['1969-01-01':'1977-01-01'].index"
   ]
  },
  {
   "cell_type": "code",
   "execution_count": 112,
   "metadata": {},
   "outputs": [
    {
     "data": {
      "text/plain": [
       "DatetimeIndex(['1969-01-01', '1969-02-01', '1969-03-01', '1969-04-01',\n",
       "               '1969-05-01', '1969-06-01', '1969-07-01', '1969-08-01',\n",
       "               '1969-09-01', '1969-10-01', '1969-11-01', '1969-12-01',\n",
       "               '1970-01-01', '1970-02-01', '1970-03-01', '1970-04-01',\n",
       "               '1970-05-01', '1970-06-01', '1970-07-01', '1970-08-01',\n",
       "               '1970-09-01', '1970-10-01', '1970-11-01', '1970-12-01',\n",
       "               '1971-01-01', '1971-02-01', '1971-03-01', '1971-04-01',\n",
       "               '1971-05-01', '1971-06-01', '1971-07-01', '1971-08-01',\n",
       "               '1971-09-01', '1971-10-01', '1971-11-01', '1971-12-01',\n",
       "               '1972-01-01', '1972-02-01', '1972-03-01', '1972-04-01',\n",
       "               '1972-05-01', '1972-06-01', '1972-07-01', '1972-08-01',\n",
       "               '1972-09-01', '1972-10-01', '1972-11-01', '1972-12-01',\n",
       "               '1973-01-01', '1973-02-01', '1973-03-01', '1973-04-01',\n",
       "               '1973-05-01', '1973-06-01', '1973-07-01', '1973-08-01',\n",
       "               '1973-09-01', '1973-10-01', '1973-11-01', '1973-12-01',\n",
       "               '1974-01-01', '1974-02-01', '1974-03-01', '1974-04-01',\n",
       "               '1974-05-01', '1974-06-01', '1974-07-01', '1974-08-01',\n",
       "               '1974-09-01', '1974-10-01', '1974-11-01', '1974-12-01',\n",
       "               '1975-01-01', '1975-02-01', '1975-03-01', '1975-04-01',\n",
       "               '1975-05-01', '1975-06-01', '1975-07-01', '1975-08-01',\n",
       "               '1975-09-01', '1975-10-01', '1975-11-01', '1975-12-01',\n",
       "               '1976-01-01', '1976-02-01', '1976-03-01', '1976-04-01',\n",
       "               '1976-05-01', '1976-06-01', '1976-07-01', '1976-08-01',\n",
       "               '1976-09-01', '1976-10-01', '1976-11-01', '1976-12-01',\n",
       "               '1977-01-01'],\n",
       "              dtype='datetime64[ns]', name='date', freq=None)"
      ]
     },
     "execution_count": 112,
     "metadata": {},
     "output_type": "execute_result"
    }
   ],
   "source": [
    "tuc"
   ]
  },
  {
   "cell_type": "code",
   "execution_count": 111,
   "metadata": {},
   "outputs": [
    {
     "data": {
      "text/plain": [
       "[<matplotlib.lines.Line2D at 0x7f3be60ab240>]"
      ]
     },
     "execution_count": 111,
     "metadata": {},
     "output_type": "execute_result"
    },
    {
     "data": {
      "image/png": "[encoded data removed]",
      "text/plain": [
       "<matplotlib.figure.Figure at 0x7f3be603f9b0>"
      ]
     },
     "metadata": {
      "needs_background": "light"
     },
     "output_type": "display_data"
    }
   ],
   "source": [
    "plt.plot(tind, linearpre)\n"
   ]
  },
  {
   "cell_type": "code",
   "execution_count": 77,
   "metadata": {},
   "outputs": [
    {
     "data": {
      "text/plain": [
       "array([ 0.00833357])"
      ]
     },
     "execution_count": 77,
     "metadata": {},
     "output_type": "execute_result"
    }
   ],
   "source": [
    "#tr = tind.\n",
    "reg_0 = LinearRegression().fit(np.array(twentyyear).reshape(-1, 1), linearpre)\n",
    "\n",
    "s0 = reg_0.coef_\n",
    "s0"
   ]
  },
  {
   "cell_type": "code",
   "execution_count": 89,
   "metadata": {},
   "outputs": [
    {
     "data": {
      "text/plain": [
       "-0.0"
      ]
     },
     "execution_count": 89,
     "metadata": {},
     "output_type": "execute_result"
    }
   ],
   "source": [
    "dif = [0]*240\n",
    "linearpre[239]\n"
   ]
  },
  {
   "cell_type": "code",
   "execution_count": 123,
   "metadata": {},
   "outputs": [
    {
     "data": {
      "text/plain": [
       "-1.9915535568834404"
      ]
     },
     "execution_count": 123,
     "metadata": {},
     "output_type": "execute_result"
    }
   ],
   "source": [
    "for d in range(240):\n",
    "    dif[d] = linearpre[d] - linearpre[d-1]\n",
    "    #print(d, linearpre[d], linearpre[d] - linearpre[d-1], dif[d])\n",
    "linearpre[0]"
   ]
  },
  {
   "cell_type": "code",
   "execution_count": 131,
   "metadata": {},
   "outputs": [
    {
     "name": "stdout",
     "output_type": "stream",
     "text": [
      "8\n"
     ]
    },
    {
     "data": {
      "text/plain": [
       "18.004476477956427"
      ]
     },
     "execution_count": 131,
     "metadata": {},
     "output_type": "execute_result"
    }
   ],
   "source": [
    "print(1977-1969)\n",
    "(pd.Timestamp('1969-01-01') -pd.Timestamp('1977-02-01'))/np.timedelta64(1, 'M')\n",
    "(pd.Timestamp('2018-12-01') -pd.Timestamp('2017-06-01'))/np.timedelta64(1, 'M')\n"
   ]
  },
  {
   "cell_type": "code",
   "execution_count": 126,
   "metadata": {
    "scrolled": true
   },
   "outputs": [
    {
     "name": "stdout",
     "output_type": "stream",
     "text": [
      "97 [-2.0000410686051047, -2.0082547896260703, -2.0167423013477346, -2.0249560223687, -2.0334435340903645, -2.0419310458120288, -2.0501447668329944, -2.0586322785546587, -2.0668459995756243, -2.0753335112972886, -2.083273441617555, -2.0917609533392194, -2.1002484650608837, -2.1084621860818493, -2.1169496978035136, -2.1251634188244792, -2.1336509305461435, -2.142138442267808, -2.1503521632887734, -2.1588396750104377, -2.1670533960314033, -2.1755409077530676, -2.1832070473726355, -2.1916945590942998, -2.200182070815964, -2.2083957918369297, -2.216883303558594, -2.2250970245795596, -2.233584536301224, -2.242072048022888, -2.250285769043854, -2.258773280765518, -2.2669870017864837, -2.275474513508148, -2.283140653127716, -2.29162816484938, -2.3001156765710444, -2.30832939759201, -2.3168169093136743, -2.32503063033464, -2.3335181420563043, -2.3420056537779685, -2.350219374798934, -2.3587068865205985, -2.366920607541564, -2.3754081192632284, -2.3830742588827962, -2.3915617706044605, -2.400049282326125, -2.4082630033470904, -2.4167505150687547, -2.4249642360897203, -2.4334517478113846, -2.441939259533049, -2.4501529805540145, -2.458640492275679, -2.4668542132966444, -2.4753417250183087, -2.4832816553385753, -2.4917691670602395, -2.500256678781904, -2.5084703998028695, -2.5169579115245337, -2.5251716325454994, -2.5336591442671637, -2.542146655988828, -2.5503603770097936, -2.558847888731458, -2.5670616097524235, -2.5755491214740878, -2.5832152610936556, -2.59170277281532, -2.600190284536984, -2.60840400555795, -2.616891517279614, -2.6251052383005797, -2.633592750022244, -2.6420802617439083, -2.650293982764874, -2.658781494486538, -2.6669952155075034, -2.6754827272291677, -2.6831488668487355, -2.6916363785704, -2.700123890292064, -2.7083376113130297, -2.716825123034694, -2.7250388440556597, -2.733526355777324, -2.7420138674989882, -2.750227588519954, -2.758715100241618, -2.7669288212625838, -2.775416332984248, -2.783082472603816, -2.79156998432548, -2.8000574960471445]\n"
     ]
    }
   ],
   "source": [
    "preext = [0]*99\n",
    "preext[0] = -1.9915535568834404\n",
    "for e in range(98):\n",
    "    preext[e+1] = preext[e] - dif[239-e]\n",
    "linear_pre_extension = preext[1:98]\n",
    "print(len(linear_pre_extension), linear_pre_extension)\n"
   ]
  },
  {
   "cell_type": "code",
   "execution_count": 127,
   "metadata": {},
   "outputs": [],
   "source": [
    "#print(len(preext), preext)\n",
    "#predictors.loc['1977-02-01':'1997-01-01']['linear_pre']"
   ]
  },
  {
   "cell_type": "code",
   "execution_count": null,
   "metadata": {},
   "outputs": [],
   "source": []
  },
  {
   "cell_type": "code",
   "execution_count": 136,
   "metadata": {},
   "outputs": [],
   "source": [
    "#predictors.loc['2001-01-01': '2017-06-01']['linear_post']"
   ]
  },
  {
   "cell_type": "code",
   "execution_count": 135,
   "metadata": {},
   "outputs": [
    {
     "name": "stdout",
     "output_type": "stream",
     "text": [
      "209 [0.008487511721664374, 0.016427442041931046, 0.02491495376359542, 0.03312867478456094, 0.04161618650622532, 0.04982990752719084, 0.05831741924885521, 0.06680493097051958, 0.07501865199148511, 0.08350616371314948, 0.091719884734115, 0.1002073964557794, 0.10869490817744376, 0.11636104779701158, 0.12484855951867595, 0.13306228053964148, 0.14154979226130585, 0.1497635132822714, 0.15825102500393573, 0.1667385367256001, 0.17495225774656564, 0.18343976946823, 0.19165349048919555, 0.2001410022108599, 0.20862851393252427, 0.21629465355209213, 0.2247821652737565, 0.232995886294722, 0.24148339801638635, 0.2496971190373519, 0.25818463075901626, 0.26667214248068066, 0.2748858635016462, 0.2833733752233105, 0.29158709624427603, 0.30007460796594043, 0.30856211968760483, 0.31622825930717263, 0.324715771028837, 0.3329294920498025, 0.3414170037714669, 0.3496307247924325, 0.3581182365140968, 0.3666057482357611, 0.3748194692567267, 0.3833069809783911, 0.3915207019993566, 0.4000082137210209, 0.4084957254426853, 0.41643565576295205, 0.4249231674846164, 0.4331368885055819, 0.4416244002272463, 0.4498381212482118, 0.4583256329698762, 0.4668131446915406, 0.4750268657125061, 0.4835143774341704, 0.4917280984551359, 0.5002156101768003, 0.5087031218984647, 0.5163692615180325, 0.5248567732396969, 0.5330704942606624, 0.5415580059823268, 0.5497717270032924, 0.5582592387249566, 0.5667467504466209, 0.5749604714675866, 0.583447983189251, 0.5916617042102165, 0.6001492159318809, 0.6086367276535453, 0.6163028672731131, 0.6247903789947775, 0.6330041000157429, 0.6414916117374073, 0.6497053327583728, 0.6581928444800372, 0.6666803562017016, 0.6748940772226671, 0.6833815889443315, 0.6915953099652971, 0.7000828216869615, 0.7085703334086257, 0.7162364730281936, 0.7247239847498579, 0.7329377057708235, 0.7414252174924878, 0.7496389385134534, 0.7581264502351177, 0.7666139619567821, 0.7748276829777476, 0.783315194699412, 0.7915289157203775, 0.8000164274420418, 0.8085039391637062, 0.8164438694839731, 0.8249313812056374, 0.8331451022266029, 0.8416326139482673, 0.8498463349692328, 0.8583338466908972, 0.8668213584125615, 0.8750350794335271, 0.8835225911551914, 0.8917363121761569, 0.9002238238978213, 0.9087113356194856, 0.9163774752390536, 0.9248649869607181, 0.9330787079816836, 0.941566219703348, 0.9497799407243132, 0.9582674524459776, 0.9667549641676422, 0.9749686851886076, 0.983456196910272, 0.9916699179312374, 1.000157429652902, 1.0086449413745662, 1.016311080994134, 1.0247985927157983, 1.033012313736764, 1.0414998254584282, 1.049713546479394, 1.058201058201058, 1.0666885699227229, 1.074902290943688, 1.0833898026653526, 1.091603523686318, 1.1000910354079825, 1.1085785471296468, 1.1162446867492144, 1.1247321984708791, 1.1329459194918443, 1.1414334312135088, 1.1496471522344742, 1.1581346639561387, 1.166622175677803, 1.1748358966987686, 1.1833234084204327, 1.1915371294413986, 1.2000246411630628, 1.2085121528847274, 1.216452083204994, 1.2249395949266584, 1.2331533159476238, 1.2416408276692883, 1.2498545486902537, 1.2583420604119182, 1.2668295721335825, 1.275043293154548, 1.2835308048762124, 1.2917445258971778, 1.3002320376188423, 1.3087195493405068, 1.3163856889600745, 1.3248732006817387, 1.3330869217027044, 1.3415744334243689, 1.3497881544453345, 1.3582756661669986, 1.366763177888663, 1.3749768989096285, 1.383464410631293, 1.3916781316522584, 1.4001656433739227, 1.4086531550955872, 1.416319294715155, 1.4248068064368191, 1.433020527457785, 1.4415080391794493, 1.4497217602004149, 1.4582092719220792, 1.4666967836437437, 1.474910504664709, 1.4833980163863734, 1.4916117374073392, 1.5000992491290033, 1.5085867608506676, 1.5162529004702354, 1.5247404121919, 1.532954133212865, 1.5414416449345298, 1.5496553659554952, 1.5581428776771598, 1.566630389398824, 1.5748441104197897, 1.5833316221414542, 1.5915453431624196, 1.6000328548840836, 1.6085203666057482, 1.6164602969260151, 1.6249478086476792, 1.6331615296686448, 1.641649041390309, 1.6498627624112747, 1.658350274132939, 1.6668377858546033, 1.6750515068755691, 1.6835390185972332, 1.6917527396181988, 1.7002402513398631, 1.7087277630615276, 1.7163939026810957, 1.7248814144027598, 1.7330951354237254, 1.7415826471453897]\n"
     ]
    }
   ],
   "source": [
    "linearpost = predictors.loc['2000-02-01':'2017-06-01']['linear_post'].tolist()\n",
    "print(len(linearpost), linearpost)"
   ]
  },
  {
   "cell_type": "code",
   "execution_count": 166,
   "metadata": {},
   "outputs": [
    {
     "name": "stdout",
     "output_type": "stream",
     "text": [
      "18 [1.7415826471453897, 1.7497963681663553, 1.7582838798880194, 1.7659500195075875, 1.774437531229252, 1.7829250429509163, 1.7911387639718819, 1.799626275693546, 1.8078399967145118, 1.816327508436176, 1.8248150201578404, 1.833028741178806, 1.8415162529004703, 1.849729973921436, 1.8582174856431, 1.866157415963367, 1.8746449276850314, 1.8831324394066955]\n"
     ]
    }
   ],
   "source": [
    "difp = [0]*209\n",
    "for dd in range(208):\n",
    "    difp[dd] = linearpost[dd+1] - linearpost[dd]\n",
    "    #print(dd, linearpost[dd],  difp[dd])\n",
    "    \n",
    "postext = [0]*21\n",
    "postext[0] = 1.7330951354237254\n",
    "\n",
    "for ep in range(20):\n",
    "    postext[ep+1] = postext[ep] + difp[208-ep]\n",
    "    \n",
    "linear_post_extension = postext[2:20]\n",
    "print(len(linear_post_extension),linear_post_extension)\n"
   ]
  },
  {
   "cell_type": "code",
   "execution_count": null,
   "metadata": {},
   "outputs": [],
   "source": []
  }
 ],
 "metadata": {
  "kernelspec": {
   "display_name": "Python 3",
   "language": "python",
   "name": "python3"
  },
  "language_info": {
   "codemirror_mode": {
    "name": "ipython",
    "version": 3
   },
   "file_extension": ".py",
   "mimetype": "text/x-python",
   "name": "python",
   "nbconvert_exporter": "python",
   "pygments_lexer": "ipython3",
   "version": "3.6.6"
  }
 },
 "nbformat": 4,
 "nbformat_minor": 2
}
