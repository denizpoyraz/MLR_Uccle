{
 "cells": [
  {
   "cell_type": "code",
   "execution_count": 2,
   "metadata": {},
   "outputs": [],
   "source": [
    "from LOTUS_regression.predictors import load_data\n",
    "import numpy as np\n",
    "import pandas as pd\n"
   ]
  },
  {
   "cell_type": "code",
   "execution_count": 47,
   "metadata": {},
   "outputs": [
    {
     "data": {
      "text/html": [
       "<div>\n",
       "<style scoped>\n",
       "    .dataframe tbody tr th:only-of-type {\n",
       "        vertical-align: middle;\n",
       "    }\n",
       "\n",
       "    .dataframe tbody tr th {\n",
       "        vertical-align: top;\n",
       "    }\n",
       "\n",
       "    .dataframe thead th {\n",
       "        text-align: right;\n",
       "    }\n",
       "</style>\n",
       "<table border=\"1\" class=\"dataframe\">\n",
       "  <thead>\n",
       "    <tr style=\"text-align: right;\">\n",
       "      <th></th>\n",
       "      <th>enso</th>\n",
       "      <th>trop</th>\n",
       "      <th>solar</th>\n",
       "      <th>qboA</th>\n",
       "      <th>qboB</th>\n",
       "      <th>aod</th>\n",
       "      <th>linear_pre</th>\n",
       "      <th>linear_post</th>\n",
       "      <th>pre_const</th>\n",
       "      <th>post_const</th>\n",
       "      <th>gap_cons</th>\n",
       "    </tr>\n",
       "    <tr>\n",
       "      <th>time</th>\n",
       "      <th></th>\n",
       "      <th></th>\n",
       "      <th></th>\n",
       "      <th></th>\n",
       "      <th></th>\n",
       "      <th></th>\n",
       "      <th></th>\n",
       "      <th></th>\n",
       "      <th></th>\n",
       "      <th></th>\n",
       "      <th></th>\n",
       "    </tr>\n",
       "  </thead>\n",
       "  <tbody>\n",
       "    <tr>\n",
       "      <td>2016-09-01</td>\n",
       "      <td>-0.186635</td>\n",
       "      <td>-2.338428</td>\n",
       "      <td>-0.713954</td>\n",
       "      <td>0.972447</td>\n",
       "      <td>-0.829060</td>\n",
       "      <td>-0.476721</td>\n",
       "      <td>-0.0</td>\n",
       "      <td>1.666838</td>\n",
       "      <td>0.0</td>\n",
       "      <td>1.0</td>\n",
       "      <td>0.0</td>\n",
       "    </tr>\n",
       "    <tr>\n",
       "      <td>2016-10-01</td>\n",
       "      <td>-0.467222</td>\n",
       "      <td>-2.065989</td>\n",
       "      <td>-0.770345</td>\n",
       "      <td>0.987041</td>\n",
       "      <td>-0.845240</td>\n",
       "      <td>-0.476721</td>\n",
       "      <td>-0.0</td>\n",
       "      <td>1.675052</td>\n",
       "      <td>0.0</td>\n",
       "      <td>1.0</td>\n",
       "      <td>0.0</td>\n",
       "    </tr>\n",
       "    <tr>\n",
       "      <td>2016-11-01</td>\n",
       "      <td>-0.298668</td>\n",
       "      <td>-1.694497</td>\n",
       "      <td>-0.949032</td>\n",
       "      <td>1.045864</td>\n",
       "      <td>-0.957971</td>\n",
       "      <td>-0.476721</td>\n",
       "      <td>-0.0</td>\n",
       "      <td>1.683539</td>\n",
       "      <td>0.0</td>\n",
       "      <td>1.0</td>\n",
       "      <td>0.0</td>\n",
       "    </tr>\n",
       "    <tr>\n",
       "      <td>2016-12-01</td>\n",
       "      <td>-0.206821</td>\n",
       "      <td>-0.938390</td>\n",
       "      <td>-1.028524</td>\n",
       "      <td>1.087502</td>\n",
       "      <td>-1.096618</td>\n",
       "      <td>-0.476721</td>\n",
       "      <td>-0.0</td>\n",
       "      <td>1.691753</td>\n",
       "      <td>0.0</td>\n",
       "      <td>1.0</td>\n",
       "      <td>0.0</td>\n",
       "    </tr>\n",
       "    <tr>\n",
       "      <td>2017-01-01</td>\n",
       "      <td>-0.140207</td>\n",
       "      <td>0.011418</td>\n",
       "      <td>-0.988438</td>\n",
       "      <td>0.924099</td>\n",
       "      <td>-1.166034</td>\n",
       "      <td>-0.476721</td>\n",
       "      <td>-0.0</td>\n",
       "      <td>1.700240</td>\n",
       "      <td>0.0</td>\n",
       "      <td>1.0</td>\n",
       "      <td>0.0</td>\n",
       "    </tr>\n",
       "    <tr>\n",
       "      <td>2017-02-01</td>\n",
       "      <td>-0.141216</td>\n",
       "      <td>0.222267</td>\n",
       "      <td>-0.984588</td>\n",
       "      <td>0.972497</td>\n",
       "      <td>-1.215657</td>\n",
       "      <td>-0.476721</td>\n",
       "      <td>-0.0</td>\n",
       "      <td>1.708728</td>\n",
       "      <td>0.0</td>\n",
       "      <td>1.0</td>\n",
       "      <td>0.0</td>\n",
       "    </tr>\n",
       "    <tr>\n",
       "      <td>2017-03-01</td>\n",
       "      <td>-0.165439</td>\n",
       "      <td>0.823427</td>\n",
       "      <td>-1.007915</td>\n",
       "      <td>0.617551</td>\n",
       "      <td>-1.299313</td>\n",
       "      <td>-0.476721</td>\n",
       "      <td>-0.0</td>\n",
       "      <td>1.716394</td>\n",
       "      <td>0.0</td>\n",
       "      <td>1.0</td>\n",
       "      <td>0.0</td>\n",
       "    </tr>\n",
       "    <tr>\n",
       "      <td>2017-04-01</td>\n",
       "      <td>0.692472</td>\n",
       "      <td>0.615894</td>\n",
       "      <td>-0.855046</td>\n",
       "      <td>-0.073552</td>\n",
       "      <td>-1.392675</td>\n",
       "      <td>-0.476721</td>\n",
       "      <td>-0.0</td>\n",
       "      <td>1.724881</td>\n",
       "      <td>0.0</td>\n",
       "      <td>1.0</td>\n",
       "      <td>0.0</td>\n",
       "    </tr>\n",
       "    <tr>\n",
       "      <td>2017-05-01</td>\n",
       "      <td>1.383848</td>\n",
       "      <td>-0.009627</td>\n",
       "      <td>-0.981418</td>\n",
       "      <td>-0.839010</td>\n",
       "      <td>-1.087476</td>\n",
       "      <td>-0.476721</td>\n",
       "      <td>-0.0</td>\n",
       "      <td>1.733095</td>\n",
       "      <td>0.0</td>\n",
       "      <td>1.0</td>\n",
       "      <td>0.0</td>\n",
       "    </tr>\n",
       "    <tr>\n",
       "      <td>2017-06-01</td>\n",
       "      <td>0.974069</td>\n",
       "      <td>0.091761</td>\n",
       "      <td>-0.942012</td>\n",
       "      <td>-1.240147</td>\n",
       "      <td>-0.550501</td>\n",
       "      <td>-0.476721</td>\n",
       "      <td>-0.0</td>\n",
       "      <td>1.741583</td>\n",
       "      <td>0.0</td>\n",
       "      <td>1.0</td>\n",
       "      <td>0.0</td>\n",
       "    </tr>\n",
       "  </tbody>\n",
       "</table>\n",
       "</div>"
      ],
      "text/plain": [
       "                enso      trop     solar      qboA      qboB       aod  \\\n",
       "time                                                                     \n",
       "2016-09-01 -0.186635 -2.338428 -0.713954  0.972447 -0.829060 -0.476721   \n",
       "2016-10-01 -0.467222 -2.065989 -0.770345  0.987041 -0.845240 -0.476721   \n",
       "2016-11-01 -0.298668 -1.694497 -0.949032  1.045864 -0.957971 -0.476721   \n",
       "2016-12-01 -0.206821 -0.938390 -1.028524  1.087502 -1.096618 -0.476721   \n",
       "2017-01-01 -0.140207  0.011418 -0.988438  0.924099 -1.166034 -0.476721   \n",
       "2017-02-01 -0.141216  0.222267 -0.984588  0.972497 -1.215657 -0.476721   \n",
       "2017-03-01 -0.165439  0.823427 -1.007915  0.617551 -1.299313 -0.476721   \n",
       "2017-04-01  0.692472  0.615894 -0.855046 -0.073552 -1.392675 -0.476721   \n",
       "2017-05-01  1.383848 -0.009627 -0.981418 -0.839010 -1.087476 -0.476721   \n",
       "2017-06-01  0.974069  0.091761 -0.942012 -1.240147 -0.550501 -0.476721   \n",
       "\n",
       "            linear_pre  linear_post  pre_const  post_const  gap_cons  \n",
       "time                                                                  \n",
       "2016-09-01        -0.0     1.666838        0.0         1.0       0.0  \n",
       "2016-10-01        -0.0     1.675052        0.0         1.0       0.0  \n",
       "2016-11-01        -0.0     1.683539        0.0         1.0       0.0  \n",
       "2016-12-01        -0.0     1.691753        0.0         1.0       0.0  \n",
       "2017-01-01        -0.0     1.700240        0.0         1.0       0.0  \n",
       "2017-02-01        -0.0     1.708728        0.0         1.0       0.0  \n",
       "2017-03-01        -0.0     1.716394        0.0         1.0       0.0  \n",
       "2017-04-01        -0.0     1.724881        0.0         1.0       0.0  \n",
       "2017-05-01        -0.0     1.733095        0.0         1.0       0.0  \n",
       "2017-06-01        -0.0     1.741583        0.0         1.0       0.0  "
      ]
     },
     "execution_count": 47,
     "metadata": {},
     "output_type": "execute_result"
    }
   ],
   "source": [
    "\n",
    "predictors = load_data('pred_baseline_ilt.csv')\n",
    "predictors[0:10]\n",
    "# list(predictors)\n",
    "# predictors.index()\n",
    "predictors[-10:]"
   ]
  },
  {
   "cell_type": "code",
   "execution_count": 5,
   "metadata": {},
   "outputs": [
    {
     "data": {
      "text/plain": [
       "(0.006183351742546824, 1.130967806403387)"
      ]
     },
     "execution_count": 5,
     "metadata": {},
     "output_type": "execute_result"
    }
   ],
   "source": [
    "np.mean(predictors['aod']), np.std(predictors['aod'])"
   ]
  },
  {
   "cell_type": "code",
   "execution_count": 48,
   "metadata": {},
   "outputs": [
    {
     "data": {
      "text/plain": [
       "(0.02838617921957625, 0.9795363075908319)"
      ]
     },
     "execution_count": 48,
     "metadata": {},
     "output_type": "execute_result"
    }
   ],
   "source": [
    "np.mean(predictors['solar']), np.std(predictors['solar'])"
   ]
  },
  {
   "cell_type": "code",
   "execution_count": 6,
   "metadata": {},
   "outputs": [
    {
     "data": {
      "text/plain": [
       "(0.37703350457248125, 0.5446623412041101)"
      ]
     },
     "execution_count": 6,
     "metadata": {},
     "output_type": "execute_result"
    }
   ],
   "source": [
    "np.mean(predictors['linear_post']), np.std(predictors['linear_post'])"
   ]
  },
  {
   "cell_type": "code",
   "execution_count": 11,
   "metadata": {},
   "outputs": [
    {
     "ename": "AttributeError",
     "evalue": "'Series' object has no attribute 'time'",
     "output_type": "error",
     "traceback": [
      "\u001b[0;31m---------------------------------------------------------------------------\u001b[0m",
      "\u001b[0;31mAttributeError\u001b[0m                            Traceback (most recent call last)",
      "\u001b[0;32m<ipython-input-11-1c3c860024ef>\u001b[0m in \u001b[0;36m<module>\u001b[0;34m\u001b[0m\n\u001b[1;32m      1\u001b[0m \u001b[0;32mfor\u001b[0m \u001b[0mi\u001b[0m \u001b[0;32min\u001b[0m \u001b[0mrange\u001b[0m\u001b[0;34m(\u001b[0m\u001b[0mlen\u001b[0m\u001b[0;34m(\u001b[0m\u001b[0mpredictors\u001b[0m\u001b[0;34m)\u001b[0m\u001b[0;34m)\u001b[0m\u001b[0;34m:\u001b[0m\u001b[0;34m\u001b[0m\u001b[0;34m\u001b[0m\u001b[0m\n\u001b[0;32m----> 2\u001b[0;31m     \u001b[0;32mif\u001b[0m\u001b[0;34m(\u001b[0m\u001b[0mpredictors\u001b[0m\u001b[0;34m.\u001b[0m\u001b[0miloc\u001b[0m\u001b[0;34m[\u001b[0m\u001b[0mi\u001b[0m\u001b[0;34m]\u001b[0m\u001b[0;34m[\u001b[0m\u001b[0;34m'linear_post'\u001b[0m\u001b[0;34m]\u001b[0m \u001b[0;34m==\u001b[0m \u001b[0;36m0\u001b[0m\u001b[0;34m)\u001b[0m\u001b[0;34m:\u001b[0m\u001b[0mprint\u001b[0m\u001b[0;34m(\u001b[0m\u001b[0mpredictors\u001b[0m\u001b[0;34m.\u001b[0m\u001b[0miloc\u001b[0m\u001b[0;34m[\u001b[0m\u001b[0mi\u001b[0m\u001b[0;34m]\u001b[0m\u001b[0;34m.\u001b[0m\u001b[0mtime\u001b[0m\u001b[0;34m)\u001b[0m\u001b[0;34m\u001b[0m\u001b[0;34m\u001b[0m\u001b[0m\n\u001b[0m",
      "\u001b[0;32m~/anaconda3/lib/python3.7/site-packages/pandas/core/generic.py\u001b[0m in \u001b[0;36m__getattr__\u001b[0;34m(self, name)\u001b[0m\n\u001b[1;32m   5177\u001b[0m             \u001b[0;32mif\u001b[0m \u001b[0mself\u001b[0m\u001b[0;34m.\u001b[0m\u001b[0m_info_axis\u001b[0m\u001b[0;34m.\u001b[0m\u001b[0m_can_hold_identifiers_and_holds_name\u001b[0m\u001b[0;34m(\u001b[0m\u001b[0mname\u001b[0m\u001b[0;34m)\u001b[0m\u001b[0;34m:\u001b[0m\u001b[0;34m\u001b[0m\u001b[0;34m\u001b[0m\u001b[0m\n\u001b[1;32m   5178\u001b[0m                 \u001b[0;32mreturn\u001b[0m \u001b[0mself\u001b[0m\u001b[0;34m[\u001b[0m\u001b[0mname\u001b[0m\u001b[0;34m]\u001b[0m\u001b[0;34m\u001b[0m\u001b[0;34m\u001b[0m\u001b[0m\n\u001b[0;32m-> 5179\u001b[0;31m             \u001b[0;32mreturn\u001b[0m \u001b[0mobject\u001b[0m\u001b[0;34m.\u001b[0m\u001b[0m__getattribute__\u001b[0m\u001b[0;34m(\u001b[0m\u001b[0mself\u001b[0m\u001b[0;34m,\u001b[0m \u001b[0mname\u001b[0m\u001b[0;34m)\u001b[0m\u001b[0;34m\u001b[0m\u001b[0;34m\u001b[0m\u001b[0m\n\u001b[0m\u001b[1;32m   5180\u001b[0m \u001b[0;34m\u001b[0m\u001b[0m\n\u001b[1;32m   5181\u001b[0m     \u001b[0;32mdef\u001b[0m \u001b[0m__setattr__\u001b[0m\u001b[0;34m(\u001b[0m\u001b[0mself\u001b[0m\u001b[0;34m,\u001b[0m \u001b[0mname\u001b[0m\u001b[0;34m,\u001b[0m \u001b[0mvalue\u001b[0m\u001b[0;34m)\u001b[0m\u001b[0;34m:\u001b[0m\u001b[0;34m\u001b[0m\u001b[0;34m\u001b[0m\u001b[0m\n",
      "\u001b[0;31mAttributeError\u001b[0m: 'Series' object has no attribute 'time'"
     ]
    }
   ],
   "source": [
    "for i in range(len(predictors)):\n",
    "    if(predictors.iloc[i]['linear_post'] == 0):print(predictors.iloc[i].time)"
   ]
  },
  {
   "cell_type": "code",
   "execution_count": 27,
   "metadata": {},
   "outputs": [
    {
     "data": {
      "text/plain": [
       "Index(['1969-01', '1969-02', '1969-03', '1969-04', '1969-05', '1969-06',\n",
       "       '1969-07', '1969-08', '1969-09', '1969-10',\n",
       "       ...\n",
       "       '2018-03', '2018-04', '2018-05', '2018-06', '2018-07', '2018-08',\n",
       "       '2018-09', '2018-10', '2018-11', '2018-12'],\n",
       "      dtype='object', name='date', length=600)"
      ]
     },
     "execution_count": 27,
     "metadata": {},
     "output_type": "execute_result"
    }
   ],
   "source": [
    "pred = pd.read_csv('/home/poyraden/Analysis/MLR_Uccle/Files/Extended_ilt.csv')\n",
    "pred.rename(columns={'Unnamed: 0': 'date'}, inplace=True)\n",
    "pred[0:3]\n",
    "\n",
    "# pred['date'] = pd.to_datetime(pred['date'], format='%Y-%m-%d')\n",
    "pred.set_index('date', inplace=True)\n",
    "pred.index"
   ]
  },
  {
   "cell_type": "code",
   "execution_count": 34,
   "metadata": {},
   "outputs": [
    {
     "data": {
      "text/html": [
       "<div>\n",
       "<style scoped>\n",
       "    .dataframe tbody tr th:only-of-type {\n",
       "        vertical-align: middle;\n",
       "    }\n",
       "\n",
       "    .dataframe tbody tr th {\n",
       "        vertical-align: top;\n",
       "    }\n",
       "\n",
       "    .dataframe thead th {\n",
       "        text-align: right;\n",
       "    }\n",
       "</style>\n",
       "<table border=\"1\" class=\"dataframe\">\n",
       "  <thead>\n",
       "    <tr style=\"text-align: right;\">\n",
       "      <th></th>\n",
       "      <th>linear_pre</th>\n",
       "      <th>linear_post</th>\n",
       "      <th>post_const</th>\n",
       "      <th>pre_const</th>\n",
       "      <th>gap_const</th>\n",
       "      <th>enso</th>\n",
       "      <th>qboA</th>\n",
       "      <th>qboB</th>\n",
       "      <th>solar</th>\n",
       "      <th>AOD</th>\n",
       "    </tr>\n",
       "    <tr>\n",
       "      <th>date</th>\n",
       "      <th></th>\n",
       "      <th></th>\n",
       "      <th></th>\n",
       "      <th></th>\n",
       "      <th></th>\n",
       "      <th></th>\n",
       "      <th></th>\n",
       "      <th></th>\n",
       "      <th></th>\n",
       "      <th></th>\n",
       "    </tr>\n",
       "  </thead>\n",
       "  <tbody>\n",
       "    <tr>\n",
       "      <td>1969-01</td>\n",
       "      <td>-2.800057</td>\n",
       "      <td>0.0</td>\n",
       "      <td>0.0</td>\n",
       "      <td>1.0</td>\n",
       "      <td>0.0</td>\n",
       "      <td>0.670</td>\n",
       "      <td>1.259361</td>\n",
       "      <td>0.897587</td>\n",
       "      <td>0.594145</td>\n",
       "      <td>1.240826</td>\n",
       "    </tr>\n",
       "    <tr>\n",
       "      <td>1969-02</td>\n",
       "      <td>-2.791570</td>\n",
       "      <td>0.0</td>\n",
       "      <td>0.0</td>\n",
       "      <td>1.0</td>\n",
       "      <td>0.0</td>\n",
       "      <td>0.849</td>\n",
       "      <td>1.132396</td>\n",
       "      <td>0.537626</td>\n",
       "      <td>0.672909</td>\n",
       "      <td>1.176370</td>\n",
       "    </tr>\n",
       "    <tr>\n",
       "      <td>1969-03</td>\n",
       "      <td>-2.783904</td>\n",
       "      <td>0.0</td>\n",
       "      <td>0.0</td>\n",
       "      <td>1.0</td>\n",
       "      <td>0.0</td>\n",
       "      <td>0.458</td>\n",
       "      <td>1.322247</td>\n",
       "      <td>0.249722</td>\n",
       "      <td>1.087912</td>\n",
       "      <td>1.108205</td>\n",
       "    </tr>\n",
       "  </tbody>\n",
       "</table>\n",
       "</div>"
      ],
      "text/plain": [
       "         linear_pre  linear_post  post_const  pre_const  gap_const   enso  \\\n",
       "date                                                                        \n",
       "1969-01   -2.800057          0.0         0.0        1.0        0.0  0.670   \n",
       "1969-02   -2.791570          0.0         0.0        1.0        0.0  0.849   \n",
       "1969-03   -2.783904          0.0         0.0        1.0        0.0  0.458   \n",
       "\n",
       "             qboA      qboB     solar       AOD  \n",
       "date                                             \n",
       "1969-01  1.259361  0.897587  0.594145  1.240826  \n",
       "1969-02  1.132396  0.537626  0.672909  1.176370  \n",
       "1969-03  1.322247  0.249722  1.087912  1.108205  "
      ]
     },
     "execution_count": 34,
     "metadata": {},
     "output_type": "execute_result"
    }
   ],
   "source": [
    "pred[0:3]\n"
   ]
  },
  {
   "cell_type": "code",
   "execution_count": 36,
   "metadata": {},
   "outputs": [
    {
     "data": {
      "text/plain": [
       "(3.55474908767898e-15, 0.9999999999999976)"
      ]
     },
     "execution_count": 36,
     "metadata": {},
     "output_type": "execute_result"
    }
   ],
   "source": [
    "np.mean(pred['AOD']), np.std(pred['AOD'])"
   ]
  },
  {
   "cell_type": "code",
   "execution_count": 65,
   "metadata": {},
   "outputs": [
    {
     "data": {
      "text/plain": [
       "(0.21760666666666675, 0.995573612859553)"
      ]
     },
     "execution_count": 65,
     "metadata": {},
     "output_type": "execute_result"
    }
   ],
   "source": [
    "np.mean(pred['enso']), np.std(pred['enso'])"
   ]
  },
  {
   "cell_type": "code",
   "execution_count": 66,
   "metadata": {},
   "outputs": [
    {
     "data": {
      "text/plain": [
       "(-9.38508530149799e-16, 0.9999999999999994)"
      ]
     },
     "execution_count": 66,
     "metadata": {},
     "output_type": "execute_result"
    }
   ],
   "source": [
    "np.mean(pred['solar']), np.std(pred['solar'])"
   ]
  },
  {
   "cell_type": "code",
   "execution_count": 54,
   "metadata": {},
   "outputs": [],
   "source": [
    "predp = pred.loc['1969-01-01':'1996-12-01']\n",
    "predg = pred.loc['1997-01-01':'1999-12-01']\n",
    "predpo = pred.loc['2000-01-01':'2018-12-01']\n"
   ]
  },
  {
   "cell_type": "code",
   "execution_count": 55,
   "metadata": {},
   "outputs": [
    {
     "data": {
      "text/plain": [
       "(-1.4003233795089514, 0.9229976439890938)"
      ]
     },
     "execution_count": 55,
     "metadata": {},
     "output_type": "execute_result"
    }
   ],
   "source": [
    "np.mean(predp['linear_pre']), np.std(pred['linear_pre'])"
   ]
  },
  {
   "cell_type": "code",
   "execution_count": 56,
   "metadata": {},
   "outputs": [
    {
     "data": {
      "text/plain": [
       "(0.0, 0.0)"
      ]
     },
     "execution_count": 56,
     "metadata": {},
     "output_type": "execute_result"
    }
   ],
   "source": [
    "np.mean(predg['linear_pre']), np.std(predg['linear_pre'])"
   ]
  },
  {
   "cell_type": "code",
   "execution_count": 57,
   "metadata": {},
   "outputs": [
    {
     "data": {
      "text/plain": [
       "(0.0, 0.0)"
      ]
     },
     "execution_count": 57,
     "metadata": {},
     "output_type": "execute_result"
    }
   ],
   "source": [
    "np.mean(predpo['linear_pre']), np.std(predpo['linear_pre'])"
   ]
  },
  {
   "cell_type": "code",
   "execution_count": 58,
   "metadata": {},
   "outputs": [
    {
     "data": {
      "text/plain": [
       "(0.9499355310344024, 0.5460793238882227)"
      ]
     },
     "execution_count": 58,
     "metadata": {},
     "output_type": "execute_result"
    }
   ],
   "source": [
    "np.mean(predpo['linear_post']), np.std(predpo['linear_post'])"
   ]
  },
  {
   "cell_type": "code",
   "execution_count": 59,
   "metadata": {},
   "outputs": [
    {
     "name": "stderr",
     "output_type": "stream",
     "text": [
      "/home/poyraden/anaconda3/lib/python3.7/site-packages/ipykernel_launcher.py:1: SettingWithCopyWarning: \n",
      "A value is trying to be set on a copy of a slice from a DataFrame.\n",
      "Try using .loc[row_indexer,col_indexer] = value instead\n",
      "\n",
      "See the caveats in the documentation: http://pandas.pydata.org/pandas-docs/stable/user_guide/indexing.html#returning-a-view-versus-a-copy\n",
      "  \"\"\"Entry point for launching an IPython kernel.\n"
     ]
    }
   ],
   "source": [
    "predp['linear'] = predp['linear_pre']"
   ]
  },
  {
   "cell_type": "code",
   "execution_count": 60,
   "metadata": {},
   "outputs": [
    {
     "name": "stderr",
     "output_type": "stream",
     "text": [
      "/home/poyraden/anaconda3/lib/python3.7/site-packages/ipykernel_launcher.py:1: SettingWithCopyWarning: \n",
      "A value is trying to be set on a copy of a slice from a DataFrame.\n",
      "Try using .loc[row_indexer,col_indexer] = value instead\n",
      "\n",
      "See the caveats in the documentation: http://pandas.pydata.org/pandas-docs/stable/user_guide/indexing.html#returning-a-view-versus-a-copy\n",
      "  \"\"\"Entry point for launching an IPython kernel.\n"
     ]
    }
   ],
   "source": [
    "predpo['linear'] = predpo['linear_post']"
   ]
  },
  {
   "cell_type": "code",
   "execution_count": 61,
   "metadata": {},
   "outputs": [
    {
     "name": "stderr",
     "output_type": "stream",
     "text": [
      "/home/poyraden/anaconda3/lib/python3.7/site-packages/ipykernel_launcher.py:1: SettingWithCopyWarning: \n",
      "A value is trying to be set on a copy of a slice from a DataFrame.\n",
      "Try using .loc[row_indexer,col_indexer] = value instead\n",
      "\n",
      "See the caveats in the documentation: http://pandas.pydata.org/pandas-docs/stable/user_guide/indexing.html#returning-a-view-versus-a-copy\n",
      "  \"\"\"Entry point for launching an IPython kernel.\n"
     ]
    }
   ],
   "source": [
    "predg['linear'] = predg['linear_pre']"
   ]
  },
  {
   "cell_type": "code",
   "execution_count": 62,
   "metadata": {},
   "outputs": [],
   "source": [
    "frames = [predp, predg, predpo]\n",
    "\n",
    "result = pd.concat(frames)"
   ]
  },
  {
   "cell_type": "code",
   "execution_count": 63,
   "metadata": {},
   "outputs": [
    {
     "data": {
      "text/html": [
       "<div>\n",
       "<style scoped>\n",
       "    .dataframe tbody tr th:only-of-type {\n",
       "        vertical-align: middle;\n",
       "    }\n",
       "\n",
       "    .dataframe tbody tr th {\n",
       "        vertical-align: top;\n",
       "    }\n",
       "\n",
       "    .dataframe thead th {\n",
       "        text-align: right;\n",
       "    }\n",
       "</style>\n",
       "<table border=\"1\" class=\"dataframe\">\n",
       "  <thead>\n",
       "    <tr style=\"text-align: right;\">\n",
       "      <th></th>\n",
       "      <th>linear_pre</th>\n",
       "      <th>linear_post</th>\n",
       "      <th>post_const</th>\n",
       "      <th>pre_const</th>\n",
       "      <th>gap_const</th>\n",
       "      <th>enso</th>\n",
       "      <th>qboA</th>\n",
       "      <th>qboB</th>\n",
       "      <th>solar</th>\n",
       "      <th>AOD</th>\n",
       "      <th>linear</th>\n",
       "    </tr>\n",
       "    <tr>\n",
       "      <th>date</th>\n",
       "      <th></th>\n",
       "      <th></th>\n",
       "      <th></th>\n",
       "      <th></th>\n",
       "      <th></th>\n",
       "      <th></th>\n",
       "      <th></th>\n",
       "      <th></th>\n",
       "      <th></th>\n",
       "      <th></th>\n",
       "      <th></th>\n",
       "    </tr>\n",
       "  </thead>\n",
       "  <tbody>\n",
       "    <tr>\n",
       "      <td>1969-02</td>\n",
       "      <td>-2.791570</td>\n",
       "      <td>0.000000</td>\n",
       "      <td>0.0</td>\n",
       "      <td>1.0</td>\n",
       "      <td>0.0</td>\n",
       "      <td>0.849</td>\n",
       "      <td>1.132396</td>\n",
       "      <td>0.537626</td>\n",
       "      <td>0.672909</td>\n",
       "      <td>1.176370</td>\n",
       "      <td>-2.791570</td>\n",
       "    </tr>\n",
       "    <tr>\n",
       "      <td>1969-03</td>\n",
       "      <td>-2.783904</td>\n",
       "      <td>0.000000</td>\n",
       "      <td>0.0</td>\n",
       "      <td>1.0</td>\n",
       "      <td>0.0</td>\n",
       "      <td>0.458</td>\n",
       "      <td>1.322247</td>\n",
       "      <td>0.249722</td>\n",
       "      <td>1.087912</td>\n",
       "      <td>1.108205</td>\n",
       "      <td>-2.783904</td>\n",
       "    </tr>\n",
       "    <tr>\n",
       "      <td>1969-04</td>\n",
       "      <td>-2.775416</td>\n",
       "      <td>0.000000</td>\n",
       "      <td>0.0</td>\n",
       "      <td>1.0</td>\n",
       "      <td>0.0</td>\n",
       "      <td>0.622</td>\n",
       "      <td>1.437846</td>\n",
       "      <td>-0.268946</td>\n",
       "      <td>0.782558</td>\n",
       "      <td>1.043396</td>\n",
       "      <td>-2.775416</td>\n",
       "    </tr>\n",
       "    <tr>\n",
       "      <td>1969-05</td>\n",
       "      <td>-2.767203</td>\n",
       "      <td>0.000000</td>\n",
       "      <td>0.0</td>\n",
       "      <td>1.0</td>\n",
       "      <td>0.0</td>\n",
       "      <td>0.674</td>\n",
       "      <td>1.401092</td>\n",
       "      <td>-0.544063</td>\n",
       "      <td>0.612746</td>\n",
       "      <td>0.976292</td>\n",
       "      <td>-2.767203</td>\n",
       "    </tr>\n",
       "    <tr>\n",
       "      <td>1969-06</td>\n",
       "      <td>-2.758715</td>\n",
       "      <td>0.000000</td>\n",
       "      <td>0.0</td>\n",
       "      <td>1.0</td>\n",
       "      <td>0.0</td>\n",
       "      <td>0.801</td>\n",
       "      <td>1.306426</td>\n",
       "      <td>-0.793939</td>\n",
       "      <td>1.015524</td>\n",
       "      <td>0.907244</td>\n",
       "      <td>-2.758715</td>\n",
       "    </tr>\n",
       "    <tr>\n",
       "      <td>...</td>\n",
       "      <td>...</td>\n",
       "      <td>...</td>\n",
       "      <td>...</td>\n",
       "      <td>...</td>\n",
       "      <td>...</td>\n",
       "      <td>...</td>\n",
       "      <td>...</td>\n",
       "      <td>...</td>\n",
       "      <td>...</td>\n",
       "      <td>...</td>\n",
       "      <td>...</td>\n",
       "    </tr>\n",
       "    <tr>\n",
       "      <td>2018-08</td>\n",
       "      <td>-0.000000</td>\n",
       "      <td>1.858217</td>\n",
       "      <td>1.0</td>\n",
       "      <td>0.0</td>\n",
       "      <td>0.0</td>\n",
       "      <td>0.132</td>\n",
       "      <td>0.804669</td>\n",
       "      <td>1.743307</td>\n",
       "      <td>-1.143096</td>\n",
       "      <td>-0.458867</td>\n",
       "      <td>1.858217</td>\n",
       "    </tr>\n",
       "    <tr>\n",
       "      <td>2018-09</td>\n",
       "      <td>-0.000000</td>\n",
       "      <td>1.866705</td>\n",
       "      <td>1.0</td>\n",
       "      <td>0.0</td>\n",
       "      <td>0.0</td>\n",
       "      <td>0.509</td>\n",
       "      <td>1.185663</td>\n",
       "      <td>1.342924</td>\n",
       "      <td>-1.143096</td>\n",
       "      <td>-0.458867</td>\n",
       "      <td>1.866705</td>\n",
       "    </tr>\n",
       "    <tr>\n",
       "      <td>2018-10</td>\n",
       "      <td>-0.000000</td>\n",
       "      <td>1.874919</td>\n",
       "      <td>1.0</td>\n",
       "      <td>0.0</td>\n",
       "      <td>0.0</td>\n",
       "      <td>0.468</td>\n",
       "      <td>1.351891</td>\n",
       "      <td>0.933160</td>\n",
       "      <td>-1.143096</td>\n",
       "      <td>-0.458867</td>\n",
       "      <td>1.874919</td>\n",
       "    </tr>\n",
       "    <tr>\n",
       "      <td>2018-11</td>\n",
       "      <td>-0.000000</td>\n",
       "      <td>1.883406</td>\n",
       "      <td>1.0</td>\n",
       "      <td>0.0</td>\n",
       "      <td>0.0</td>\n",
       "      <td>0.698</td>\n",
       "      <td>1.646219</td>\n",
       "      <td>0.401344</td>\n",
       "      <td>-1.143096</td>\n",
       "      <td>-0.458867</td>\n",
       "      <td>1.883406</td>\n",
       "    </tr>\n",
       "    <tr>\n",
       "      <td>2018-12</td>\n",
       "      <td>-0.000000</td>\n",
       "      <td>1.891620</td>\n",
       "      <td>1.0</td>\n",
       "      <td>0.0</td>\n",
       "      <td>0.0</td>\n",
       "      <td>0.698</td>\n",
       "      <td>1.642771</td>\n",
       "      <td>-0.093206</td>\n",
       "      <td>-1.143096</td>\n",
       "      <td>-0.458867</td>\n",
       "      <td>1.891620</td>\n",
       "    </tr>\n",
       "  </tbody>\n",
       "</table>\n",
       "<p>597 rows × 11 columns</p>\n",
       "</div>"
      ],
      "text/plain": [
       "         linear_pre  linear_post  post_const  pre_const  gap_const   enso  \\\n",
       "date                                                                        \n",
       "1969-02   -2.791570     0.000000         0.0        1.0        0.0  0.849   \n",
       "1969-03   -2.783904     0.000000         0.0        1.0        0.0  0.458   \n",
       "1969-04   -2.775416     0.000000         0.0        1.0        0.0  0.622   \n",
       "1969-05   -2.767203     0.000000         0.0        1.0        0.0  0.674   \n",
       "1969-06   -2.758715     0.000000         0.0        1.0        0.0  0.801   \n",
       "...             ...          ...         ...        ...        ...    ...   \n",
       "2018-08   -0.000000     1.858217         1.0        0.0        0.0  0.132   \n",
       "2018-09   -0.000000     1.866705         1.0        0.0        0.0  0.509   \n",
       "2018-10   -0.000000     1.874919         1.0        0.0        0.0  0.468   \n",
       "2018-11   -0.000000     1.883406         1.0        0.0        0.0  0.698   \n",
       "2018-12   -0.000000     1.891620         1.0        0.0        0.0  0.698   \n",
       "\n",
       "             qboA      qboB     solar       AOD    linear  \n",
       "date                                                       \n",
       "1969-02  1.132396  0.537626  0.672909  1.176370 -2.791570  \n",
       "1969-03  1.322247  0.249722  1.087912  1.108205 -2.783904  \n",
       "1969-04  1.437846 -0.268946  0.782558  1.043396 -2.775416  \n",
       "1969-05  1.401092 -0.544063  0.612746  0.976292 -2.767203  \n",
       "1969-06  1.306426 -0.793939  1.015524  0.907244 -2.758715  \n",
       "...           ...       ...       ...       ...       ...  \n",
       "2018-08  0.804669  1.743307 -1.143096 -0.458867  1.858217  \n",
       "2018-09  1.185663  1.342924 -1.143096 -0.458867  1.866705  \n",
       "2018-10  1.351891  0.933160 -1.143096 -0.458867  1.874919  \n",
       "2018-11  1.646219  0.401344 -1.143096 -0.458867  1.883406  \n",
       "2018-12  1.642771 -0.093206 -1.143096 -0.458867  1.891620  \n",
       "\n",
       "[597 rows x 11 columns]"
      ]
     },
     "execution_count": 63,
     "metadata": {},
     "output_type": "execute_result"
    }
   ],
   "source": [
    "result"
   ]
  },
  {
   "cell_type": "code",
   "execution_count": 64,
   "metadata": {},
   "outputs": [
    {
     "data": {
      "text/plain": [
       "(-0.4245778334852421, 1.3194776544663636)"
      ]
     },
     "execution_count": 64,
     "metadata": {},
     "output_type": "execute_result"
    }
   ],
   "source": [
    "np.mean(result['linear']), np.std(result['linear'])"
   ]
  },
  {
   "cell_type": "code",
   "execution_count": 68,
   "metadata": {},
   "outputs": [
    {
     "data": {
      "text/plain": [
       "(-0.01245765253664847, 0.9968297569906235)"
      ]
     },
     "execution_count": 68,
     "metadata": {},
     "output_type": "execute_result"
    }
   ],
   "source": [
    "np.mean(result['qboA']), np.std(result['qboA'])"
   ]
  },
  {
   "cell_type": "code",
   "execution_count": 69,
   "metadata": {},
   "outputs": [
    {
     "data": {
      "text/plain": [
       "(0.000963603449571658, 1.00088526786013)"
      ]
     },
     "execution_count": 69,
     "metadata": {},
     "output_type": "execute_result"
    }
   ],
   "source": [
    "np.mean(result['qboB']), np.std(result['qboB'])"
   ]
  },
  {
   "cell_type": "code",
   "execution_count": 77,
   "metadata": {},
   "outputs": [
    {
     "data": {
      "text/plain": [
       "array([[10],\n",
       "       [20],\n",
       "       [30],\n",
       "       [40]])"
      ]
     },
     "execution_count": 77,
     "metadata": {},
     "output_type": "execute_result"
    }
   ],
   "source": [
    "from pandas import DataFrame\n",
    "from sklearn import linear_model\n",
    "import statsmodels.api as sm\n",
    "\n",
    "x = np.array([10, 20, 30, 40]).reshape((-1, 1))\n",
    "y = np.array([8, 9, 10 ,11])\n",
    "\n",
    "x"
   ]
  },
  {
   "cell_type": "code",
   "execution_count": 78,
   "metadata": {},
   "outputs": [
    {
     "name": "stdout",
     "output_type": "stream",
     "text": [
      "Intercept: \n",
      " 7.0\n",
      "Coefficients: \n",
      " [0.1]\n"
     ]
    }
   ],
   "source": [
    "\n",
    "# with sklearn\n",
    "regr = linear_model.LinearRegression()\n",
    "regr.fit(x, y)\n",
    "\n",
    "print('Intercept: \\n', regr.intercept_)\n",
    "print('Coefficients: \\n', regr.coef_)"
   ]
  },
  {
   "cell_type": "code",
   "execution_count": 87,
   "metadata": {},
   "outputs": [
    {
     "name": "stdout",
     "output_type": "stream",
     "text": [
      "Intercept: \n",
      " 6.999999999999999\n",
      "Coefficients: \n",
      " [1.]\n"
     ]
    }
   ],
   "source": [
    "x = np.array([1, 2, 3, 4]).reshape((-1, 1))\n",
    "y = np.array([8, 9, 10 ,11])\n",
    "regr = linear_model.LinearRegression()\n",
    "regr.fit(x, y)\n",
    "\n",
    "print('Intercept: \\n', regr.intercept_)\n",
    "print('Coefficients: \\n', regr.coef_)"
   ]
  },
  {
   "cell_type": "code",
   "execution_count": 88,
   "metadata": {},
   "outputs": [
    {
     "name": "stdout",
     "output_type": "stream",
     "text": [
      "[[-1.34164079]\n",
      " [-0.4472136 ]\n",
      " [ 0.4472136 ]\n",
      " [ 1.34164079]]\n",
      "Intercept: \n",
      " 9.5\n",
      "Coefficients: \n",
      " [1.11803399]\n"
     ]
    }
   ],
   "source": [
    "xn = (x - np.mean(x))/np.std(x)\n",
    "print(xn)\n",
    "regr = linear_model.LinearRegression()\n",
    "regr.fit(xn, y)\n",
    "\n",
    "print('Intercept: \\n', regr.intercept_)\n",
    "print('Coefficients: \\n', regr.coef_)"
   ]
  },
  {
   "cell_type": "code",
   "execution_count": 96,
   "metadata": {},
   "outputs": [
    {
     "name": "stdout",
     "output_type": "stream",
     "text": [
      "Intercept: \n",
      " 16.000000000000004\n",
      "Coefficients: \n",
      " [2.]\n"
     ]
    }
   ],
   "source": [
    "x2 = np.array([-4,-3.5,-3,-2.5]).reshape((-1, 1))\n",
    "regr = linear_model.LinearRegression()\n",
    "regr.fit(x2, y)\n",
    "\n",
    "print('Intercept: \\n', regr.intercept_)\n",
    "print('Coefficients: \\n', regr.coef_)"
   ]
  },
  {
   "cell_type": "code",
   "execution_count": 97,
   "metadata": {},
   "outputs": [
    {
     "name": "stdout",
     "output_type": "stream",
     "text": [
      "[[-1.34164079]\n",
      " [-0.4472136 ]\n",
      " [ 0.4472136 ]\n",
      " [ 1.34164079]]\n",
      "Intercept: \n",
      " 9.5\n",
      "Coefficients: \n",
      " [1.11803399]\n"
     ]
    }
   ],
   "source": [
    "xn2 = (x2 - np.mean(x2))/np.std(x2)\n",
    "print(xn2)\n",
    "regr = linear_model.LinearRegression()\n",
    "regr.fit(xn2, y)\n",
    "\n",
    "print('Intercept: \\n', regr.intercept_)\n",
    "print('Coefficients: \\n', regr.coef_)"
   ]
  },
  {
   "cell_type": "code",
   "execution_count": 98,
   "metadata": {},
   "outputs": [
    {
     "data": {
      "text/html": [
       "<div>\n",
       "<style scoped>\n",
       "    .dataframe tbody tr th:only-of-type {\n",
       "        vertical-align: middle;\n",
       "    }\n",
       "\n",
       "    .dataframe tbody tr th {\n",
       "        vertical-align: top;\n",
       "    }\n",
       "\n",
       "    .dataframe thead th {\n",
       "        text-align: right;\n",
       "    }\n",
       "</style>\n",
       "<table border=\"1\" class=\"dataframe\">\n",
       "  <thead>\n",
       "    <tr style=\"text-align: right;\">\n",
       "      <th></th>\n",
       "      <th>Unnamed: 0</th>\n",
       "      <th>linear_one</th>\n",
       "      <th>enso</th>\n",
       "      <th>qboA</th>\n",
       "      <th>qboB</th>\n",
       "      <th>solar</th>\n",
       "      <th>AOD</th>\n",
       "    </tr>\n",
       "  </thead>\n",
       "  <tbody>\n",
       "    <tr>\n",
       "      <td>0</td>\n",
       "      <td>1969-01</td>\n",
       "      <td>-1.728962</td>\n",
       "      <td>0.670</td>\n",
       "      <td>1.269316</td>\n",
       "      <td>0.900528</td>\n",
       "      <td>0.594145</td>\n",
       "      <td>1.240826</td>\n",
       "    </tr>\n",
       "    <tr>\n",
       "      <td>1</td>\n",
       "      <td>1969-02</td>\n",
       "      <td>-1.723082</td>\n",
       "      <td>0.849</td>\n",
       "      <td>1.140860</td>\n",
       "      <td>0.542350</td>\n",
       "      <td>0.672909</td>\n",
       "      <td>1.176370</td>\n",
       "    </tr>\n",
       "    <tr>\n",
       "      <td>2</td>\n",
       "      <td>1969-03</td>\n",
       "      <td>-1.717771</td>\n",
       "      <td>0.458</td>\n",
       "      <td>1.331078</td>\n",
       "      <td>0.255986</td>\n",
       "      <td>1.087912</td>\n",
       "      <td>1.108205</td>\n",
       "    </tr>\n",
       "  </tbody>\n",
       "</table>\n",
       "</div>"
      ],
      "text/plain": [
       "  Unnamed: 0  linear_one   enso      qboA      qboB     solar       AOD\n",
       "0    1969-01   -1.728962  0.670  1.269316  0.900528  0.594145  1.240826\n",
       "1    1969-02   -1.723082  0.849  1.140860  0.542350  0.672909  1.176370\n",
       "2    1969-03   -1.717771  0.458  1.331078  0.255986  1.087912  1.108205"
      ]
     },
     "execution_count": 98,
     "metadata": {},
     "output_type": "execute_result"
    }
   ],
   "source": [
    "predictors = pd.read_csv('/home/poyraden/Analysis/MLR_Uccle/Files/Extended_ilt_alltrend_nor.csv')\n",
    "predictors[0:3]"
   ]
  },
  {
   "cell_type": "code",
   "execution_count": 99,
   "metadata": {},
   "outputs": [
    {
     "data": {
      "text/html": [
       "<div>\n",
       "<style scoped>\n",
       "    .dataframe tbody tr th:only-of-type {\n",
       "        vertical-align: middle;\n",
       "    }\n",
       "\n",
       "    .dataframe tbody tr th {\n",
       "        vertical-align: top;\n",
       "    }\n",
       "\n",
       "    .dataframe thead th {\n",
       "        text-align: right;\n",
       "    }\n",
       "</style>\n",
       "<table border=\"1\" class=\"dataframe\">\n",
       "  <thead>\n",
       "    <tr style=\"text-align: right;\">\n",
       "      <th></th>\n",
       "      <th>Unnamed: 0</th>\n",
       "      <th>linear_one</th>\n",
       "      <th>enso</th>\n",
       "      <th>qboA</th>\n",
       "      <th>qboB</th>\n",
       "      <th>solar</th>\n",
       "      <th>AOD</th>\n",
       "    </tr>\n",
       "  </thead>\n",
       "  <tbody>\n",
       "    <tr>\n",
       "      <td>597</td>\n",
       "      <td>2018-10</td>\n",
       "      <td>1.717597</td>\n",
       "      <td>0.468</td>\n",
       "      <td>1.362195</td>\n",
       "      <td>0.935627</td>\n",
       "      <td>-1.143096</td>\n",
       "      <td>-0.458867</td>\n",
       "    </tr>\n",
       "    <tr>\n",
       "      <td>598</td>\n",
       "      <td>2018-11</td>\n",
       "      <td>1.723477</td>\n",
       "      <td>0.698</td>\n",
       "      <td>1.656915</td>\n",
       "      <td>0.406191</td>\n",
       "      <td>-1.143096</td>\n",
       "      <td>-0.458867</td>\n",
       "    </tr>\n",
       "    <tr>\n",
       "      <td>599</td>\n",
       "      <td>2018-12</td>\n",
       "      <td>1.729167</td>\n",
       "      <td>0.698</td>\n",
       "      <td>1.652505</td>\n",
       "      <td>-0.086264</td>\n",
       "      <td>-1.143096</td>\n",
       "      <td>-0.458867</td>\n",
       "    </tr>\n",
       "  </tbody>\n",
       "</table>\n",
       "</div>"
      ],
      "text/plain": [
       "    Unnamed: 0  linear_one   enso      qboA      qboB     solar       AOD\n",
       "597    2018-10    1.717597  0.468  1.362195  0.935627 -1.143096 -0.458867\n",
       "598    2018-11    1.723477  0.698  1.656915  0.406191 -1.143096 -0.458867\n",
       "599    2018-12    1.729167  0.698  1.652505 -0.086264 -1.143096 -0.458867"
      ]
     },
     "execution_count": 99,
     "metadata": {},
     "output_type": "execute_result"
    }
   ],
   "source": [
    "predictors[-3:]"
   ]
  },
  {
   "cell_type": "code",
   "execution_count": null,
   "metadata": {},
   "outputs": [],
   "source": []
  }
 ],
 "metadata": {
  "kernelspec": {
   "display_name": "Python 3 (ipykernel)",
   "language": "python",
   "name": "python3"
  },
  "language_info": {
   "codemirror_mode": {
    "name": "ipython",
    "version": 3
   },
   "file_extension": ".py",
   "mimetype": "text/x-python",
   "name": "python",
   "nbconvert_exporter": "python",
   "pygments_lexer": "ipython3",
   "version": "3.7.3"
  }
 },
 "nbformat": 4,
 "nbformat_minor": 2
}
