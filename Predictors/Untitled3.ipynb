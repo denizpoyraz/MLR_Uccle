{
 "cells": [
  {
   "cell_type": "code",
   "execution_count": 4,
   "metadata": {},
   "outputs": [],
   "source": [
    "from LOTUS_regression.predictors import load_data\n",
    "import numpy as np\n",
    "import pandas as pd\n",
    "from pandas import DataFrame\n",
    "from sklearn import linear_model\n",
    "import statsmodels.api as sm"
   ]
  },
  {
   "cell_type": "code",
   "execution_count": 5,
   "metadata": {},
   "outputs": [
    {
     "name": "stdout",
     "output_type": "stream",
     "text": [
      "Intercept: \n",
      " 6.999999999999999\n",
      "Coefficients: \n",
      " [1.]\n"
     ]
    }
   ],
   "source": [
    "x = np.array([1, 2, 3, 4]).reshape((-1, 1))\n",
    "y = np.array([8, 9, 10 ,11])\n",
    "regr = linear_model.LinearRegression()\n",
    "regr.fit(x, y)\n",
    "\n",
    "print('Intercept: \\n', regr.intercept_)\n",
    "print('Coefficients: \\n', regr.coef_)"
   ]
  },
  {
   "cell_type": "code",
   "execution_count": 6,
   "metadata": {},
   "outputs": [
    {
     "name": "stdout",
     "output_type": "stream",
     "text": [
      "[[-1.34164079]\n",
      " [-0.4472136 ]\n",
      " [ 0.4472136 ]\n",
      " [ 1.34164079]]\n",
      "Intercept: \n",
      " 9.5\n",
      "Coefficients: \n",
      " [1.11803399]\n"
     ]
    }
   ],
   "source": [
    "xn = (x - np.mean(x))/np.std(x)\n",
    "print(xn)\n",
    "regr = linear_model.LinearRegression()\n",
    "regr.fit(xn, y)\n",
    "\n",
    "print('Intercept: \\n', regr.intercept_)\n",
    "print('Coefficients: \\n', regr.coef_)"
   ]
  },
  {
   "cell_type": "code",
   "execution_count": 7,
   "metadata": {},
   "outputs": [
    {
     "name": "stdout",
     "output_type": "stream",
     "text": [
      "Intercept: \n",
      " 16.000000000000004\n",
      "Coefficients: \n",
      " [2.]\n"
     ]
    }
   ],
   "source": [
    "x2 = np.array([-4,-3.5,-3,-2.5]).reshape((-1, 1))\n",
    "regr = linear_model.LinearRegression()\n",
    "regr.fit(x2, y)\n",
    "\n",
    "print('Intercept: \\n', regr.intercept_)\n",
    "print('Coefficients: \\n', regr.coef_)"
   ]
  },
  {
   "cell_type": "code",
   "execution_count": 8,
   "metadata": {},
   "outputs": [
    {
     "name": "stdout",
     "output_type": "stream",
     "text": [
      "[[-1.34164079]\n",
      " [-0.4472136 ]\n",
      " [ 0.4472136 ]\n",
      " [ 1.34164079]]\n",
      "Intercept: \n",
      " 9.5\n",
      "Coefficients: \n",
      " [1.11803399]\n"
     ]
    }
   ],
   "source": [
    "xn2 = (x2 - np.mean(x2))/np.std(x2)\n",
    "print(xn2)\n",
    "regr = linear_model.LinearRegression()\n",
    "regr.fit(xn2, y)\n",
    "\n",
    "print('Intercept: \\n', regr.intercept_)\n",
    "print('Coefficients: \\n', regr.coef_)"
   ]
  },
  {
   "cell_type": "code",
   "execution_count": 10,
   "metadata": {},
   "outputs": [
    {
     "name": "stdout",
     "output_type": "stream",
     "text": [
      "Intercept: \n",
      " 9.863075534155882\n",
      "Coefficients: \n",
      " [0.15287391]\n"
     ]
    }
   ],
   "source": [
    "t1 = np.array([-13,-3.5, 0 , 7]).reshape((-1, 1))\n",
    "# print(t1)\n",
    "regr = linear_model.LinearRegression()\n",
    "regr.fit(t1, y)\n",
    "\n",
    "print('Intercept: \\n', regr.intercept_)\n",
    "print('Coefficients: \\n', regr.coef_)"
   ]
  },
  {
   "cell_type": "code",
   "execution_count": 11,
   "metadata": {},
   "outputs": [
    {
     "name": "stdout",
     "output_type": "stream",
     "text": [
      "Intercept: \n",
      " 9.5\n",
      "Coefficients: \n",
      " [1.10156101]\n"
     ]
    }
   ],
   "source": [
    "t1n = (t1 - np.mean(t1))/np.std(t1)\n",
    "\n",
    "regr = linear_model.LinearRegression()\n",
    "regr.fit(t1n, y)\n",
    "\n",
    "print('Intercept: \\n', regr.intercept_)\n",
    "print('Coefficients: \\n', regr.coef_)"
   ]
  },
  {
   "cell_type": "code",
   "execution_count": null,
   "metadata": {},
   "outputs": [],
   "source": []
  }
 ],
 "metadata": {
  "kernelspec": {
   "display_name": "Python 3 (ipykernel)",
   "language": "python",
   "name": "python3"
  },
  "language_info": {
   "codemirror_mode": {
    "name": "ipython",
    "version": 3
   },
   "file_extension": ".py",
   "mimetype": "text/x-python",
   "name": "python",
   "nbconvert_exporter": "python",
   "pygments_lexer": "ipython3",
   "version": "3.7.3"
  }
 },
 "nbformat": 4,
 "nbformat_minor": 2
}
