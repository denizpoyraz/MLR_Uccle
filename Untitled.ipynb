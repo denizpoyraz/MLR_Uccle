{
 "cells": [
  {
   "cell_type": "code",
   "execution_count": 1,
   "metadata": {},
   "outputs": [],
   "source": [
    "from LOTUS_regression.regression import mzm_regression\n",
    "from LOTUS_regression.predictors import load_data\n",
    "from LOTUS_regression.predictors.seasonal import add_seasonal_components\n",
    "import LOTUS_regression.tests as tests\n",
    "import numpy as np\n",
    "import pandas as pd\n",
    "import matplotlib.pyplot as plt\n",
    "import statsmodels.api as sm\n",
    "from datetime import datetime\n",
    "from scipy import stats"
   ]
  },
  {
   "cell_type": "code",
   "execution_count": 4,
   "metadata": {},
   "outputs": [
    {
     "name": "stdout",
     "output_type": "stream",
     "text": [
      "['Unnamed: 0', 'linear_pre', 'linear_post', 'post_const', 'pre_const', 'gap_const', 'enso', 'qboA', 'qboB', 'solar', 'AOD', 'AO', 'pre_tropop', 'temp_100', 'temp_500', 'EAWR', 'NAO']\n"
     ]
    }
   ],
   "source": [
    "predictors=pd.read_csv('/home/poyraden/MLR_Uccle/Files/TotalColumnPredictors_ilt.csv')\n",
    "print(list(predictors))"
   ]
  },
  {
   "cell_type": "code",
   "execution_count": 5,
   "metadata": {},
   "outputs": [
    {
     "name": "stdout",
     "output_type": "stream",
     "text": [
      "['Unnamed: 0', 'linear_pre', 'linear_post', 'post_const', 'pre_const', 'gap_const', 'enso', 'qboA', 'qboB', 'solar', 'AOD']\n"
     ]
    }
   ],
   "source": [
    "ilt = pd.read_csv('/home/poyraden/MLR_Uccle/Files/Extended_ilt.csv')\n",
    "print(list(ilt))"
   ]
  },
  {
   "cell_type": "code",
   "execution_count": 10,
   "metadata": {},
   "outputs": [
    {
     "name": "stdout",
     "output_type": "stream",
     "text": [
      "24 DatetimeIndex(['1977-02-01', '1977-03-01', '1977-04-01', '1977-05-01',\n",
      "               '1977-06-01', '1977-07-01', '1977-08-01', '1977-09-01',\n",
      "               '1977-10-01', '1977-11-01', '1977-12-01', '1978-01-01',\n",
      "               '1978-02-01', '1978-03-01', '1978-04-01', '1978-05-01',\n",
      "               '1978-06-01', '1978-07-01', '1978-08-01', '1978-09-01',\n",
      "               '1978-10-01', '1978-11-01', '1978-12-01', '1979-01-01'],\n",
      "              dtype='datetime64[ns]', freq=None)\n"
     ]
    }
   ],
   "source": [
    "tlist = ['1977-02-01', '1977-03-01', '1977-04-01', '1977-05-01',\n",
    "               '1977-06-01', '1977-07-01', '1977-08-01', '1977-09-01',\n",
    "               '1977-10-01', '1977-11-01', '1977-12-01', '1978-01-01',\n",
    "               '1978-02-01', '1978-03-01', '1978-04-01', '1978-05-01',\n",
    "               '1978-06-01', '1978-07-01', '1978-08-01', '1978-09-01',\n",
    "               '1978-10-01', '1978-11-01', '1978-12-01', '1979-01-01']\n",
    "dlist =  pd.to_datetime(tlist, format='%Y-%m')\n",
    "\n",
    "print(len(dlist),dlist)\n",
    "\n"
   ]
  },
  {
   "cell_type": "code",
   "execution_count": 50,
   "metadata": {},
   "outputs": [
    {
     "name": "stdout",
     "output_type": "stream",
     "text": [
      "24 [1, 2, 3, 4, 5, 6, 7, 8, 9, 10, 11, 12, 13, 14, 15, 16, 17, 18, 19, 20, 21, 22, 23, 24]\n",
      "1.6091304347826085 3.427536231884062\n"
     ]
    }
   ],
   "source": [
    "#Y = [10, 11, 9, 10, 12, 13, 10, 9, 8, 11, 12, 12, 9, 10, 11, 9, 12, 10, 8, 9, 13, 10, 11, 13]\n",
    "Y = [5, 7, 9, 10, 12, 13, 10, 15, 16, 18, 20, 22, 24, 30, 40, 30, 30, 35, 33, 35, 34, 35, 40, 42]\n",
    "\n",
    "xm = ['']*24\n",
    "for i in range(1,25):\n",
    "    xm[i-1] = i\n",
    "\n",
    "print(len(Y), xm)\n",
    "\n",
    "slope, intercept, r_value, p_value, std_err = stats.linregress(xm,Y)\n",
    "print(slope, intercept)"
   ]
  },
  {
   "cell_type": "code",
   "execution_count": 41,
   "metadata": {},
   "outputs": [
    {
     "name": "stdout",
     "output_type": "stream",
     "text": [
      "{'1977-02-01': 10, '1977-03-01': 11, '1977-04-01': 9, '1977-05-01': 10, '1977-06-01': 12, '1977-07-01': 13, '1977-08-01': 10, '1977-09-01': 9, '1977-10-01': 8, '1977-11-01': 11, '1977-12-01': 12, '1978-01-01': 12, '1978-02-01': 9, '1978-03-01': 10, '1978-04-01': 11, '1978-05-01': 9, '1978-06-01': 12, '1978-07-01': 10, '1978-08-01': 8, '1978-09-01': 9, '1978-10-01': 13, '1978-11-01': 10, '1978-12-01': 11, '1979-01-01': 13}\n"
     ]
    },
    {
     "data": {
      "text/html": [
       "<div>\n",
       "<style scoped>\n",
       "    .dataframe tbody tr th:only-of-type {\n",
       "        vertical-align: middle;\n",
       "    }\n",
       "\n",
       "    .dataframe tbody tr th {\n",
       "        vertical-align: top;\n",
       "    }\n",
       "\n",
       "    .dataframe thead th {\n",
       "        text-align: right;\n",
       "    }\n",
       "</style>\n",
       "<table border=\"1\" class=\"dataframe\">\n",
       "  <thead>\n",
       "    <tr style=\"text-align: right;\">\n",
       "      <th></th>\n",
       "      <th>o3</th>\n",
       "    </tr>\n",
       "    <tr>\n",
       "      <th>date</th>\n",
       "      <th></th>\n",
       "    </tr>\n",
       "  </thead>\n",
       "  <tbody>\n",
       "    <tr>\n",
       "      <th>1977-02-01</th>\n",
       "      <td>5</td>\n",
       "    </tr>\n",
       "    <tr>\n",
       "      <th>1977-03-01</th>\n",
       "      <td>7</td>\n",
       "    </tr>\n",
       "    <tr>\n",
       "      <th>1977-04-01</th>\n",
       "      <td>9</td>\n",
       "    </tr>\n",
       "    <tr>\n",
       "      <th>1977-05-01</th>\n",
       "      <td>10</td>\n",
       "    </tr>\n",
       "    <tr>\n",
       "      <th>1977-06-01</th>\n",
       "      <td>12</td>\n",
       "    </tr>\n",
       "    <tr>\n",
       "      <th>1977-07-01</th>\n",
       "      <td>13</td>\n",
       "    </tr>\n",
       "    <tr>\n",
       "      <th>1977-08-01</th>\n",
       "      <td>10</td>\n",
       "    </tr>\n",
       "    <tr>\n",
       "      <th>1977-09-01</th>\n",
       "      <td>15</td>\n",
       "    </tr>\n",
       "    <tr>\n",
       "      <th>1977-10-01</th>\n",
       "      <td>16</td>\n",
       "    </tr>\n",
       "    <tr>\n",
       "      <th>1977-11-01</th>\n",
       "      <td>18</td>\n",
       "    </tr>\n",
       "    <tr>\n",
       "      <th>1977-12-01</th>\n",
       "      <td>20</td>\n",
       "    </tr>\n",
       "    <tr>\n",
       "      <th>1978-01-01</th>\n",
       "      <td>22</td>\n",
       "    </tr>\n",
       "    <tr>\n",
       "      <th>1978-02-01</th>\n",
       "      <td>24</td>\n",
       "    </tr>\n",
       "    <tr>\n",
       "      <th>1978-03-01</th>\n",
       "      <td>30</td>\n",
       "    </tr>\n",
       "    <tr>\n",
       "      <th>1978-04-01</th>\n",
       "      <td>40</td>\n",
       "    </tr>\n",
       "    <tr>\n",
       "      <th>1978-05-01</th>\n",
       "      <td>30</td>\n",
       "    </tr>\n",
       "    <tr>\n",
       "      <th>1978-06-01</th>\n",
       "      <td>30</td>\n",
       "    </tr>\n",
       "    <tr>\n",
       "      <th>1978-07-01</th>\n",
       "      <td>35</td>\n",
       "    </tr>\n",
       "    <tr>\n",
       "      <th>1978-08-01</th>\n",
       "      <td>33</td>\n",
       "    </tr>\n",
       "    <tr>\n",
       "      <th>1978-09-01</th>\n",
       "      <td>35</td>\n",
       "    </tr>\n",
       "    <tr>\n",
       "      <th>1978-10-01</th>\n",
       "      <td>34</td>\n",
       "    </tr>\n",
       "    <tr>\n",
       "      <th>1978-11-01</th>\n",
       "      <td>35</td>\n",
       "    </tr>\n",
       "    <tr>\n",
       "      <th>1978-12-01</th>\n",
       "      <td>40</td>\n",
       "    </tr>\n",
       "    <tr>\n",
       "      <th>1979-01-01</th>\n",
       "      <td>42</td>\n",
       "    </tr>\n",
       "  </tbody>\n",
       "</table>\n",
       "</div>"
      ],
      "text/plain": [
       "            o3\n",
       "date          \n",
       "1977-02-01   5\n",
       "1977-03-01   7\n",
       "1977-04-01   9\n",
       "1977-05-01  10\n",
       "1977-06-01  12\n",
       "1977-07-01  13\n",
       "1977-08-01  10\n",
       "1977-09-01  15\n",
       "1977-10-01  16\n",
       "1977-11-01  18\n",
       "1977-12-01  20\n",
       "1978-01-01  22\n",
       "1978-02-01  24\n",
       "1978-03-01  30\n",
       "1978-04-01  40\n",
       "1978-05-01  30\n",
       "1978-06-01  30\n",
       "1978-07-01  35\n",
       "1978-08-01  33\n",
       "1978-09-01  35\n",
       "1978-10-01  34\n",
       "1978-11-01  35\n",
       "1978-12-01  40\n",
       "1979-01-01  42"
      ]
     },
     "execution_count": 41,
     "metadata": {},
     "output_type": "execute_result"
    },
    {
     "data": {
      "image/png": "[encoded data removed]",
      "text/plain": [
       "<Figure size 432x288 with 1 Axes>"
      ]
     },
     "metadata": {
      "needs_background": "light"
     },
     "output_type": "display_data"
    }
   ],
   "source": [
    "plt.plot(dlist, Y)\n",
    "\n",
    "#plist = dict(zip(list(tlist), Y))\n",
    "print(plist)\n",
    "#pdf  = pd.DataFrame.from_dict(plist)\n",
    "\n",
    "df = pd.DataFrame()\n",
    "df['o3'] = Y\n",
    "df['date'] = dlist\n",
    "df.set_index('date', inplace=True)\n",
    "df"
   ]
  },
  {
   "cell_type": "code",
   "execution_count": 42,
   "metadata": {},
   "outputs": [
    {
     "data": {
      "image/png": "[encoded data removed]",
      "text/plain": [
       "<Figure size 432x288 with 1 Axes>"
      ]
     },
     "metadata": {
      "needs_background": "light"
     },
     "output_type": "display_data"
    }
   ],
   "source": [
    "decomposition = sm.tsa.seasonal_decompose(df, model='additive')\n",
    "fig = decomposition.trend.plot()\n",
    "plt.show()\n"
   ]
  },
  {
   "cell_type": "code",
   "execution_count": 43,
   "metadata": {},
   "outputs": [
    {
     "data": {
      "text/html": [
       "<div>\n",
       "<style scoped>\n",
       "    .dataframe tbody tr th:only-of-type {\n",
       "        vertical-align: middle;\n",
       "    }\n",
       "\n",
       "    .dataframe tbody tr th {\n",
       "        vertical-align: top;\n",
       "    }\n",
       "\n",
       "    .dataframe thead th {\n",
       "        text-align: right;\n",
       "    }\n",
       "</style>\n",
       "<table border=\"1\" class=\"dataframe\">\n",
       "  <thead>\n",
       "    <tr style=\"text-align: right;\">\n",
       "      <th></th>\n",
       "      <th>o3</th>\n",
       "    </tr>\n",
       "    <tr>\n",
       "      <th>date</th>\n",
       "      <th></th>\n",
       "    </tr>\n",
       "  </thead>\n",
       "  <tbody>\n",
       "    <tr>\n",
       "      <th>1977-02-01</th>\n",
       "      <td>NaN</td>\n",
       "    </tr>\n",
       "    <tr>\n",
       "      <th>1977-03-01</th>\n",
       "      <td>NaN</td>\n",
       "    </tr>\n",
       "    <tr>\n",
       "      <th>1977-04-01</th>\n",
       "      <td>NaN</td>\n",
       "    </tr>\n",
       "    <tr>\n",
       "      <th>1977-05-01</th>\n",
       "      <td>NaN</td>\n",
       "    </tr>\n",
       "    <tr>\n",
       "      <th>1977-06-01</th>\n",
       "      <td>NaN</td>\n",
       "    </tr>\n",
       "    <tr>\n",
       "      <th>1977-07-01</th>\n",
       "      <td>NaN</td>\n",
       "    </tr>\n",
       "    <tr>\n",
       "      <th>1977-08-01</th>\n",
       "      <td>13.875000</td>\n",
       "    </tr>\n",
       "    <tr>\n",
       "      <th>1977-09-01</th>\n",
       "      <td>15.625000</td>\n",
       "    </tr>\n",
       "    <tr>\n",
       "      <th>1977-10-01</th>\n",
       "      <td>17.875000</td>\n",
       "    </tr>\n",
       "    <tr>\n",
       "      <th>1977-11-01</th>\n",
       "      <td>20.000000</td>\n",
       "    </tr>\n",
       "    <tr>\n",
       "      <th>1977-12-01</th>\n",
       "      <td>21.583333</td>\n",
       "    </tr>\n",
       "    <tr>\n",
       "      <th>1978-01-01</th>\n",
       "      <td>23.250000</td>\n",
       "    </tr>\n",
       "    <tr>\n",
       "      <th>1978-02-01</th>\n",
       "      <td>25.125000</td>\n",
       "    </tr>\n",
       "    <tr>\n",
       "      <th>1978-03-01</th>\n",
       "      <td>26.916667</td>\n",
       "    </tr>\n",
       "    <tr>\n",
       "      <th>1978-04-01</th>\n",
       "      <td>28.500000</td>\n",
       "    </tr>\n",
       "    <tr>\n",
       "      <th>1978-05-01</th>\n",
       "      <td>29.958333</td>\n",
       "    </tr>\n",
       "    <tr>\n",
       "      <th>1978-06-01</th>\n",
       "      <td>31.500000</td>\n",
       "    </tr>\n",
       "    <tr>\n",
       "      <th>1978-07-01</th>\n",
       "      <td>33.166667</td>\n",
       "    </tr>\n",
       "    <tr>\n",
       "      <th>1978-08-01</th>\n",
       "      <td>NaN</td>\n",
       "    </tr>\n",
       "    <tr>\n",
       "      <th>1978-09-01</th>\n",
       "      <td>NaN</td>\n",
       "    </tr>\n",
       "    <tr>\n",
       "      <th>1978-10-01</th>\n",
       "      <td>NaN</td>\n",
       "    </tr>\n",
       "    <tr>\n",
       "      <th>1978-11-01</th>\n",
       "      <td>NaN</td>\n",
       "    </tr>\n",
       "    <tr>\n",
       "      <th>1978-12-01</th>\n",
       "      <td>NaN</td>\n",
       "    </tr>\n",
       "    <tr>\n",
       "      <th>1979-01-01</th>\n",
       "      <td>NaN</td>\n",
       "    </tr>\n",
       "  </tbody>\n",
       "</table>\n",
       "</div>"
      ],
      "text/plain": [
       "                   o3\n",
       "date                 \n",
       "1977-02-01        NaN\n",
       "1977-03-01        NaN\n",
       "1977-04-01        NaN\n",
       "1977-05-01        NaN\n",
       "1977-06-01        NaN\n",
       "1977-07-01        NaN\n",
       "1977-08-01  13.875000\n",
       "1977-09-01  15.625000\n",
       "1977-10-01  17.875000\n",
       "1977-11-01  20.000000\n",
       "1977-12-01  21.583333\n",
       "1978-01-01  23.250000\n",
       "1978-02-01  25.125000\n",
       "1978-03-01  26.916667\n",
       "1978-04-01  28.500000\n",
       "1978-05-01  29.958333\n",
       "1978-06-01  31.500000\n",
       "1978-07-01  33.166667\n",
       "1978-08-01        NaN\n",
       "1978-09-01        NaN\n",
       "1978-10-01        NaN\n",
       "1978-11-01        NaN\n",
       "1978-12-01        NaN\n",
       "1979-01-01        NaN"
      ]
     },
     "execution_count": 43,
     "metadata": {},
     "output_type": "execute_result"
    }
   ],
   "source": [
    "decomposition.trend"
   ]
  },
  {
   "cell_type": "code",
   "execution_count": null,
   "metadata": {},
   "outputs": [],
   "source": []
  }
 ],
 "metadata": {
  "kernelspec": {
   "display_name": "Python 3",
   "language": "python",
   "name": "python3"
  },
  "language_info": {
   "codemirror_mode": {
    "name": "ipython",
    "version": 3
   },
   "file_extension": ".py",
   "mimetype": "text/x-python",
   "name": "python",
   "nbconvert_exporter": "python",
   "pygments_lexer": "ipython3",
   "version": "3.7.4"
  }
 },
 "nbformat": 4,
 "nbformat_minor": 2
}
