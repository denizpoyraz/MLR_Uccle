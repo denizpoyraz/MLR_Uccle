{
 "cells": [
  {
   "cell_type": "code",
   "execution_count": 30,
   "metadata": {},
   "outputs": [],
   "source": [
    "from LOTUS_regression.regression import mzm_regression\n",
    "from LOTUS_regression.predictors import load_data\n",
    "import LOTUS_regression.tests as tests\n",
    "import numpy as np\n",
    "import pandas as pd\n",
    "import matplotlib.pyplot as plt\n",
    "import statsmodels as sm\n",
    "from LOTUS_regression.predictors.seasonal import add_seasonal_components\n",
    "from scipy.interpolate import interp1d\n",
    "from sklearn.linear_model import LinearRegression\n",
    "from scipy import stats"
   ]
  },
  {
   "cell_type": "code",
   "execution_count": 31,
   "metadata": {},
   "outputs": [
    {
     "data": {
      "text/plain": [
       "DatetimeIndex(['1977-02-01', '1977-03-01', '1977-04-01', '1977-05-01',\n",
       "               '1977-06-01', '1977-07-01', '1977-08-01', '1977-09-01',\n",
       "               '1977-10-01', '1977-11-01',\n",
       "               ...\n",
       "               '2016-09-01', '2016-10-01', '2016-11-01', '2016-12-01',\n",
       "               '2017-01-01', '2017-02-01', '2017-03-01', '2017-04-01',\n",
       "               '2017-05-01', '2017-06-01'],\n",
       "              dtype='datetime64[ns]', name='time', length=485, freq=None)"
      ]
     },
     "execution_count": 31,
     "metadata": {},
     "output_type": "execute_result"
    }
   ],
   "source": [
    "predictors = load_data('pred_baseline_ilt.csv')\n",
    "predictors.index"
   ]
  },
  {
   "cell_type": "code",
   "execution_count": 46,
   "metadata": {},
   "outputs": [
    {
     "data": {
      "text/plain": [
       "(DatetimeIndex(['1977-02-01', '1977-03-01', '1977-04-01', '1977-05-01',\n",
       "                '1977-06-01', '1977-07-01', '1977-08-01', '1977-09-01',\n",
       "                '1977-10-01', '1977-11-01',\n",
       "                ...\n",
       "                '1996-03-01', '1996-04-01', '1996-05-01', '1996-06-01',\n",
       "                '1996-07-01', '1996-08-01', '1996-09-01', '1996-10-01',\n",
       "                '1996-11-01', '1996-12-01'],\n",
       "               dtype='datetime64[ns]', name='time', length=239, freq=None),\n",
       " 239)"
      ]
     },
     "execution_count": 46,
     "metadata": {},
     "output_type": "execute_result"
    }
   ],
   "source": [
    "linearpre = predictors.loc['1977-02-01':'1996-12-01']['linear_pre'].tolist()\n",
    "#print(linearpre, len(linearpre))\n",
    "tind = predictors.loc['1977-02-01':'1996-12-01'].index\n",
    "tind, len(tind)"
   ]
  },
  {
   "cell_type": "code",
   "execution_count": 47,
   "metadata": {},
   "outputs": [
    {
     "data": {
      "text/plain": [
       "[<matplotlib.lines.Line2D at 0x1c1ecd81d0>]"
      ]
     },
     "execution_count": 47,
     "metadata": {},
     "output_type": "execute_result"
    },
    {
     "data": {
      "image/png": "[encoded data removed]",
      "text/plain": [
       "<Figure size 432x288 with 1 Axes>"
      ]
     },
     "metadata": {
      "needs_background": "light"
     },
     "output_type": "display_data"
    }
   ],
   "source": [
    "plt.plot(tind, linearpre)"
   ]
  },
  {
   "cell_type": "code",
   "execution_count": 89,
   "metadata": {
    "scrolled": true
   },
   "outputs": [
    {
     "name": "stdout",
     "output_type": "stream",
     "text": [
      "97 97\n",
      "[98, 99, 100, 101, 102, 103, 104, 105, 106, 107, 108, 109, 110, 111, 112, 113, 114, 115, 116, 117, 118, 119, 120, 121, 122, 123, 124, 125, 126, 127, 128, 129, 130, 131, 132, 133, 134, 135, 136, 137, 138, 139, 140, 141, 142, 143, 144, 145, 146, 147, 148, 149, 150, 151, 152, 153, 154, 155, 156, 157, 158, 159, 160, 161, 162, 163, 164, 165, 166, 167, 168, 169, 170, 171, 172, 173, 174, 175, 176, 177, 178, 179, 180, 181, 182, 183, 184, 185, 186, 187, 188, 189, 190, 191, 192, 193, 194, 195, 196, 197, 198, 199, 200, 201, 202, 203, 204, 205, 206, 207, 208, 209, 210, 211, 212, 213, 214, 215, 216, 217, 218, 219, 220, 221, 222, 223, 224, 225, 226, 227, 228, 229, 230, 231, 232, 233, 234, 235, 236, 237, 238, 239, 240, 241, 242, 243, 244, 245, 246, 247, 248, 249, 250, 251, 252, 253, 254, 255, 256, 257, 258, 259, 260, 261, 262, 263, 264, 265, 266, 267, 268, 269, 270, 271, 272, 273, 274, 275, 276, 277, 278, 279, 280, 281, 282, 283, 284, 285, 286, 287, 288, 289, 290, 291, 292, 293, 294, 295, 296, 297, 298, 299, 300, 301, 302, 303, 304, 305, 306, 307, 308, 309, 310, 311, 312, 313, 314, 315, 316, 317, 318, 319, 320, 321, 322, 323, 324, 325, 326, 327, 328, 329, 330, 331, 332, 333, 334, 335, 336] 239\n"
     ]
    }
   ],
   "source": [
    "preyear_ext = [0]*97\n",
    "preyear = [0]*239\n",
    "\n",
    "for t in range(97):\n",
    "    preyear_ext[t] = t+1\n",
    "for t2 in range(239):\n",
    "    preyear[t2] = t2+98\n",
    "print(len(preyear_ext),preyear_ext[96])\n",
    "print(preyear, len(preyear))"
   ]
  },
  {
   "cell_type": "code",
   "execution_count": 76,
   "metadata": {},
   "outputs": [
    {
     "name": "stdout",
     "output_type": "stream",
     "text": [
      "0.008333535137372663 -2.8086926428171477 1.775104916351646e-07\n"
     ]
    }
   ],
   "source": [
    "slope, intercept, r_value, p_value, std_err = stats.linregress(preyear,linearpre)\n",
    "print(slope,intercept, std_err)\n",
    "#print(linearpre)"
   ]
  },
  {
   "cell_type": "code",
   "execution_count": 112,
   "metadata": {},
   "outputs": [],
   "source": [
    "linearpre_ext = [0]*97\n",
    "for ex in range(97):\n",
    "    #linearpre_ext[ex] = intercept - (slope*preyear_ext[ex])\n",
    "    linearpre_ext[ex] = linearpre[0] - (slope*preyear_ext[ex])\n",
    "\n",
    "linearpre_ext = linearpre_ext[::-1]\n",
    "#print(linearpre[0], linearpre_ext)\n",
    "all_pre = linearpre_ext + linearpre   \n",
    "#print(len(all_pre), all_pre)"
   ]
  },
  {
   "cell_type": "code",
   "execution_count": 106,
   "metadata": {
    "scrolled": true
   },
   "outputs": [
    {
     "data": {
      "text/plain": [
       "[<matplotlib.lines.Line2D at 0x1c1f84c358>]"
      ]
     },
     "execution_count": 106,
     "metadata": {},
     "output_type": "execute_result"
    },
    {
     "data": {
      "image/png": "[encoded data removed]",
      "text/plain": [
       "<Figure size 432x288 with 1 Axes>"
      ]
     },
     "metadata": {
      "needs_background": "light"
     },
     "output_type": "display_data"
    }
   ],
   "source": [
    "#uccles = pd.read_csv('/home/poyraden//MLR_Uccle/Files/1km_monthlymean.csv')\n",
    "uccles = pd.read_csv('/Volumes/HD3/KMI/MLR_Uccle/Files/1km_monthlymean.csv')\n",
    "\n",
    "\n",
    "uccles.rename(columns={'Unnamed: 0':'date'}, inplace=True)\n",
    "uccles['date'] =  pd.to_datetime(uccles['date'], format='%Y-%m')\n",
    "uccles.set_index('date', inplace=True)\n",
    "#uccles_time = uccles.loc['1969-01-01':'1977-01-01']\n",
    "\n",
    "tuc = uccles.loc['1969-01-01':'1996-12-01'].index\n",
    "#tuc\n",
    "plt.plot(tuc, all_pre)\n",
    "\n"
   ]
  },
  {
   "cell_type": "code",
   "execution_count": 125,
   "metadata": {},
   "outputs": [
    {
     "data": {
      "text/html": [
       "<div>\n",
       "<style scoped>\n",
       "    .dataframe tbody tr th:only-of-type {\n",
       "        vertical-align: middle;\n",
       "    }\n",
       "\n",
       "    .dataframe tbody tr th {\n",
       "        vertical-align: top;\n",
       "    }\n",
       "\n",
       "    .dataframe thead th {\n",
       "        text-align: right;\n",
       "    }\n",
       "</style>\n",
       "<table border=\"1\" class=\"dataframe\">\n",
       "  <thead>\n",
       "    <tr style=\"text-align: right;\">\n",
       "      <th></th>\n",
       "      <th>enso</th>\n",
       "      <th>trop</th>\n",
       "      <th>solar</th>\n",
       "      <th>qboA</th>\n",
       "      <th>qboB</th>\n",
       "      <th>aod</th>\n",
       "      <th>linear_pre</th>\n",
       "      <th>linear_post</th>\n",
       "      <th>pre_const</th>\n",
       "      <th>post_const</th>\n",
       "      <th>gap_cons</th>\n",
       "    </tr>\n",
       "    <tr>\n",
       "      <th>time</th>\n",
       "      <th></th>\n",
       "      <th></th>\n",
       "      <th></th>\n",
       "      <th></th>\n",
       "      <th></th>\n",
       "      <th></th>\n",
       "      <th></th>\n",
       "      <th></th>\n",
       "      <th></th>\n",
       "      <th></th>\n",
       "      <th></th>\n",
       "    </tr>\n",
       "  </thead>\n",
       "  <tbody>\n",
       "    <tr>\n",
       "      <th>2016-09-01</th>\n",
       "      <td>-0.186635</td>\n",
       "      <td>-2.338428</td>\n",
       "      <td>-0.713954</td>\n",
       "      <td>0.972447</td>\n",
       "      <td>-0.829060</td>\n",
       "      <td>-0.476721</td>\n",
       "      <td>-0.0</td>\n",
       "      <td>1.666838</td>\n",
       "      <td>0.0</td>\n",
       "      <td>1.0</td>\n",
       "      <td>0.0</td>\n",
       "    </tr>\n",
       "    <tr>\n",
       "      <th>2016-10-01</th>\n",
       "      <td>-0.467222</td>\n",
       "      <td>-2.065989</td>\n",
       "      <td>-0.770345</td>\n",
       "      <td>0.987041</td>\n",
       "      <td>-0.845240</td>\n",
       "      <td>-0.476721</td>\n",
       "      <td>-0.0</td>\n",
       "      <td>1.675052</td>\n",
       "      <td>0.0</td>\n",
       "      <td>1.0</td>\n",
       "      <td>0.0</td>\n",
       "    </tr>\n",
       "    <tr>\n",
       "      <th>2016-11-01</th>\n",
       "      <td>-0.298668</td>\n",
       "      <td>-1.694497</td>\n",
       "      <td>-0.949032</td>\n",
       "      <td>1.045864</td>\n",
       "      <td>-0.957971</td>\n",
       "      <td>-0.476721</td>\n",
       "      <td>-0.0</td>\n",
       "      <td>1.683539</td>\n",
       "      <td>0.0</td>\n",
       "      <td>1.0</td>\n",
       "      <td>0.0</td>\n",
       "    </tr>\n",
       "    <tr>\n",
       "      <th>2016-12-01</th>\n",
       "      <td>-0.206821</td>\n",
       "      <td>-0.938390</td>\n",
       "      <td>-1.028524</td>\n",
       "      <td>1.087502</td>\n",
       "      <td>-1.096618</td>\n",
       "      <td>-0.476721</td>\n",
       "      <td>-0.0</td>\n",
       "      <td>1.691753</td>\n",
       "      <td>0.0</td>\n",
       "      <td>1.0</td>\n",
       "      <td>0.0</td>\n",
       "    </tr>\n",
       "    <tr>\n",
       "      <th>2017-01-01</th>\n",
       "      <td>-0.140207</td>\n",
       "      <td>0.011418</td>\n",
       "      <td>-0.988438</td>\n",
       "      <td>0.924099</td>\n",
       "      <td>-1.166034</td>\n",
       "      <td>-0.476721</td>\n",
       "      <td>-0.0</td>\n",
       "      <td>1.700240</td>\n",
       "      <td>0.0</td>\n",
       "      <td>1.0</td>\n",
       "      <td>0.0</td>\n",
       "    </tr>\n",
       "    <tr>\n",
       "      <th>2017-02-01</th>\n",
       "      <td>-0.141216</td>\n",
       "      <td>0.222267</td>\n",
       "      <td>-0.984588</td>\n",
       "      <td>0.972497</td>\n",
       "      <td>-1.215657</td>\n",
       "      <td>-0.476721</td>\n",
       "      <td>-0.0</td>\n",
       "      <td>1.708728</td>\n",
       "      <td>0.0</td>\n",
       "      <td>1.0</td>\n",
       "      <td>0.0</td>\n",
       "    </tr>\n",
       "    <tr>\n",
       "      <th>2017-03-01</th>\n",
       "      <td>-0.165439</td>\n",
       "      <td>0.823427</td>\n",
       "      <td>-1.007915</td>\n",
       "      <td>0.617551</td>\n",
       "      <td>-1.299313</td>\n",
       "      <td>-0.476721</td>\n",
       "      <td>-0.0</td>\n",
       "      <td>1.716394</td>\n",
       "      <td>0.0</td>\n",
       "      <td>1.0</td>\n",
       "      <td>0.0</td>\n",
       "    </tr>\n",
       "    <tr>\n",
       "      <th>2017-04-01</th>\n",
       "      <td>0.692472</td>\n",
       "      <td>0.615894</td>\n",
       "      <td>-0.855046</td>\n",
       "      <td>-0.073552</td>\n",
       "      <td>-1.392675</td>\n",
       "      <td>-0.476721</td>\n",
       "      <td>-0.0</td>\n",
       "      <td>1.724881</td>\n",
       "      <td>0.0</td>\n",
       "      <td>1.0</td>\n",
       "      <td>0.0</td>\n",
       "    </tr>\n",
       "    <tr>\n",
       "      <th>2017-05-01</th>\n",
       "      <td>1.383848</td>\n",
       "      <td>-0.009627</td>\n",
       "      <td>-0.981418</td>\n",
       "      <td>-0.839010</td>\n",
       "      <td>-1.087476</td>\n",
       "      <td>-0.476721</td>\n",
       "      <td>-0.0</td>\n",
       "      <td>1.733095</td>\n",
       "      <td>0.0</td>\n",
       "      <td>1.0</td>\n",
       "      <td>0.0</td>\n",
       "    </tr>\n",
       "    <tr>\n",
       "      <th>2017-06-01</th>\n",
       "      <td>0.974069</td>\n",
       "      <td>0.091761</td>\n",
       "      <td>-0.942012</td>\n",
       "      <td>-1.240147</td>\n",
       "      <td>-0.550501</td>\n",
       "      <td>-0.476721</td>\n",
       "      <td>-0.0</td>\n",
       "      <td>1.741583</td>\n",
       "      <td>0.0</td>\n",
       "      <td>1.0</td>\n",
       "      <td>0.0</td>\n",
       "    </tr>\n",
       "  </tbody>\n",
       "</table>\n",
       "</div>"
      ],
      "text/plain": [
       "                enso      trop     solar      qboA      qboB       aod  \\\n",
       "time                                                                     \n",
       "2016-09-01 -0.186635 -2.338428 -0.713954  0.972447 -0.829060 -0.476721   \n",
       "2016-10-01 -0.467222 -2.065989 -0.770345  0.987041 -0.845240 -0.476721   \n",
       "2016-11-01 -0.298668 -1.694497 -0.949032  1.045864 -0.957971 -0.476721   \n",
       "2016-12-01 -0.206821 -0.938390 -1.028524  1.087502 -1.096618 -0.476721   \n",
       "2017-01-01 -0.140207  0.011418 -0.988438  0.924099 -1.166034 -0.476721   \n",
       "2017-02-01 -0.141216  0.222267 -0.984588  0.972497 -1.215657 -0.476721   \n",
       "2017-03-01 -0.165439  0.823427 -1.007915  0.617551 -1.299313 -0.476721   \n",
       "2017-04-01  0.692472  0.615894 -0.855046 -0.073552 -1.392675 -0.476721   \n",
       "2017-05-01  1.383848 -0.009627 -0.981418 -0.839010 -1.087476 -0.476721   \n",
       "2017-06-01  0.974069  0.091761 -0.942012 -1.240147 -0.550501 -0.476721   \n",
       "\n",
       "            linear_pre  linear_post  pre_const  post_const  gap_cons  \n",
       "time                                                                  \n",
       "2016-09-01        -0.0     1.666838        0.0         1.0       0.0  \n",
       "2016-10-01        -0.0     1.675052        0.0         1.0       0.0  \n",
       "2016-11-01        -0.0     1.683539        0.0         1.0       0.0  \n",
       "2016-12-01        -0.0     1.691753        0.0         1.0       0.0  \n",
       "2017-01-01        -0.0     1.700240        0.0         1.0       0.0  \n",
       "2017-02-01        -0.0     1.708728        0.0         1.0       0.0  \n",
       "2017-03-01        -0.0     1.716394        0.0         1.0       0.0  \n",
       "2017-04-01        -0.0     1.724881        0.0         1.0       0.0  \n",
       "2017-05-01        -0.0     1.733095        0.0         1.0       0.0  \n",
       "2017-06-01        -0.0     1.741583        0.0         1.0       0.0  "
      ]
     },
     "execution_count": 125,
     "metadata": {},
     "output_type": "execute_result"
    }
   ],
   "source": [
    "predictors[-10:]"
   ]
  },
  {
   "cell_type": "code",
   "execution_count": 128,
   "metadata": {},
   "outputs": [
    {
     "data": {
      "text/plain": [
       "(DatetimeIndex(['2000-01-01', '2000-02-01', '2000-03-01', '2000-04-01',\n",
       "                '2000-05-01', '2000-06-01', '2000-07-01', '2000-08-01',\n",
       "                '2000-09-01', '2000-10-01',\n",
       "                ...\n",
       "                '2016-09-01', '2016-10-01', '2016-11-01', '2016-12-01',\n",
       "                '2017-01-01', '2017-02-01', '2017-03-01', '2017-04-01',\n",
       "                '2017-05-01', '2017-06-01'],\n",
       "               dtype='datetime64[ns]', name='time', length=210, freq=None),\n",
       " 210)"
      ]
     },
     "execution_count": 128,
     "metadata": {},
     "output_type": "execute_result"
    }
   ],
   "source": [
    "linearpost = predictors.loc['2000-01-01':'2017-06-01']['linear_post'].tolist()\n",
    "#print(linearpost, len(linearpost))\n",
    "tpost = predictors.loc['2000-01-01':'2017-06-01'].index\n",
    "tpost, len(tpost)\n"
   ]
  },
  {
   "cell_type": "code",
   "execution_count": 137,
   "metadata": {},
   "outputs": [
    {
     "name": "stdout",
     "output_type": "stream",
     "text": [
      "18 18\n",
      "[19, 20, 21, 22, 23, 24, 25, 26, 27, 28, 29, 30, 31, 32, 33, 34, 35, 36, 37, 38, 39, 40, 41, 42, 43, 44, 45, 46, 47, 48, 49, 50, 51, 52, 53, 54, 55, 56, 57, 58, 59, 60, 61, 62, 63, 64, 65, 66, 67, 68, 69, 70, 71, 72, 73, 74, 75, 76, 77, 78, 79, 80, 81, 82, 83, 84, 85, 86, 87, 88, 89, 90, 91, 92, 93, 94, 95, 96, 97, 98, 99, 100, 101, 102, 103, 104, 105, 106, 107, 108, 109, 110, 111, 112, 113, 114, 115, 116, 117, 118, 119, 120, 121, 122, 123, 124, 125, 126, 127, 128, 129, 130, 131, 132, 133, 134, 135, 136, 137, 138, 139, 140, 141, 142, 143, 144, 145, 146, 147, 148, 149, 150, 151, 152, 153, 154, 155, 156, 157, 158, 159, 160, 161, 162, 163, 164, 165, 166, 167, 168, 169, 170, 171, 172, 173, 174, 175, 176, 177, 178, 179, 180, 181, 182, 183, 184, 185, 186, 187, 188, 189, 190, 191, 192, 193, 194, 195, 196, 197, 198, 199, 200, 201, 202, 203, 204, 205, 206, 207, 208, 209, 210, 211, 212, 213, 214, 215, 216, 217, 218, 219, 220, 221, 222, 223, 224, 225, 226, 227, 228] 210\n",
      "[1, 2, 3, 4, 5, 6, 7, 8, 9, 10, 11, 12, 13, 14, 15, 16, 17, 18]\n",
      "1.7415826471453897\n"
     ]
    }
   ],
   "source": [
    "postyear_ext = [0]*18\n",
    "postyear = [0]*210\n",
    "\n",
    "for pt in range(18):\n",
    "    postyear_ext[pt] = pt+1\n",
    "for pt2 in range(210):\n",
    "    postyear[pt2] = pt2+19\n",
    "print(len(postyear_ext),postyear_ext[17])\n",
    "print(postyear, len(postyear))\n",
    "print(postyear_ext)\n",
    "print(linearpost[209])"
   ]
  },
  {
   "cell_type": "code",
   "execution_count": 138,
   "metadata": {
    "scrolled": true
   },
   "outputs": [
    {
     "name": "stdout",
     "output_type": "stream",
     "text": [
      "[1.7415826471453897, 1.7497963681663553, 1.7582838798880194, 1.7659500195075875, 1.774437531229252, 1.7829250429509163, 1.7911387639718819, 1.799626275693546, 1.8078399967145118, 1.816327508436176, 1.8248150201578404, 1.833028741178806, 1.8415162529004703, 1.849729973921436, 1.8582174856431, 1.866157415963367, 1.8746449276850314, 1.8831324394066955]\n"
     ]
    }
   ],
   "source": [
    "linearpost_ext = [0]*18\n",
    "for ex2 in range(18):\n",
    "    linearpost_ext[ex2] = linearpost[209] + (slope*postyear_ext[ex2])\n",
    "\n",
    "print(linear_post_extension)"
   ]
  },
  {
   "cell_type": "code",
   "execution_count": 142,
   "metadata": {},
   "outputs": [
    {
     "name": "stdout",
     "output_type": "stream",
     "text": [
      "228 [0.0, 0.008487511721664374, 0.016427442041931046, 0.02491495376359542, 0.03312867478456094, 0.04161618650622532, 0.04982990752719084, 0.05831741924885521, 0.06680493097051958, 0.07501865199148511, 0.08350616371314948, 0.091719884734115, 0.1002073964557794, 0.10869490817744376, 0.11636104779701158, 0.12484855951867595, 0.13306228053964148, 0.14154979226130585, 0.1497635132822714, 0.15825102500393573, 0.1667385367256001, 0.17495225774656564, 0.18343976946823, 0.19165349048919555, 0.2001410022108599, 0.20862851393252427, 0.21629465355209213, 0.2247821652737565, 0.232995886294722, 0.24148339801638635, 0.2496971190373519, 0.25818463075901626, 0.26667214248068066, 0.2748858635016462, 0.2833733752233105, 0.29158709624427603, 0.30007460796594043, 0.30856211968760483, 0.31622825930717263, 0.324715771028837, 0.3329294920498025, 0.3414170037714669, 0.3496307247924325, 0.3581182365140968, 0.3666057482357611, 0.3748194692567267, 0.3833069809783911, 0.3915207019993566, 0.4000082137210209, 0.4084957254426853, 0.41643565576295205, 0.4249231674846164, 0.4331368885055819, 0.4416244002272463, 0.4498381212482118, 0.4583256329698762, 0.4668131446915406, 0.4750268657125061, 0.4835143774341704, 0.4917280984551359, 0.5002156101768003, 0.5087031218984647, 0.5163692615180325, 0.5248567732396969, 0.5330704942606624, 0.5415580059823268, 0.5497717270032924, 0.5582592387249566, 0.5667467504466209, 0.5749604714675866, 0.583447983189251, 0.5916617042102165, 0.6001492159318809, 0.6086367276535453, 0.6163028672731131, 0.6247903789947775, 0.6330041000157429, 0.6414916117374073, 0.6497053327583728, 0.6581928444800372, 0.6666803562017016, 0.6748940772226671, 0.6833815889443315, 0.6915953099652971, 0.7000828216869615, 0.7085703334086257, 0.7162364730281936, 0.7247239847498579, 0.7329377057708235, 0.7414252174924878, 0.7496389385134534, 0.7581264502351177, 0.7666139619567821, 0.7748276829777476, 0.783315194699412, 0.7915289157203775, 0.8000164274420418, 0.8085039391637062, 0.8164438694839731, 0.8249313812056374, 0.8331451022266029, 0.8416326139482673, 0.8498463349692328, 0.8583338466908972, 0.8668213584125615, 0.8750350794335271, 0.8835225911551914, 0.8917363121761569, 0.9002238238978213, 0.9087113356194856, 0.9163774752390536, 0.9248649869607181, 0.9330787079816836, 0.941566219703348, 0.9497799407243132, 0.9582674524459776, 0.9667549641676422, 0.9749686851886076, 0.983456196910272, 0.9916699179312374, 1.000157429652902, 1.0086449413745662, 1.016311080994134, 1.0247985927157983, 1.033012313736764, 1.0414998254584282, 1.049713546479394, 1.058201058201058, 1.0666885699227229, 1.074902290943688, 1.0833898026653526, 1.091603523686318, 1.1000910354079825, 1.1085785471296468, 1.1162446867492144, 1.1247321984708791, 1.1329459194918443, 1.1414334312135088, 1.1496471522344742, 1.1581346639561387, 1.166622175677803, 1.1748358966987686, 1.1833234084204327, 1.1915371294413986, 1.2000246411630628, 1.2085121528847274, 1.216452083204994, 1.2249395949266584, 1.2331533159476238, 1.2416408276692883, 1.2498545486902537, 1.2583420604119182, 1.2668295721335825, 1.275043293154548, 1.2835308048762124, 1.2917445258971778, 1.3002320376188423, 1.3087195493405068, 1.3163856889600745, 1.3248732006817387, 1.3330869217027044, 1.3415744334243689, 1.3497881544453345, 1.3582756661669986, 1.366763177888663, 1.3749768989096285, 1.383464410631293, 1.3916781316522584, 1.4001656433739227, 1.4086531550955872, 1.416319294715155, 1.4248068064368191, 1.433020527457785, 1.4415080391794493, 1.4497217602004149, 1.4582092719220792, 1.4666967836437437, 1.474910504664709, 1.4833980163863734, 1.4916117374073392, 1.5000992491290033, 1.5085867608506676, 1.5162529004702354, 1.5247404121919, 1.532954133212865, 1.5414416449345298, 1.5496553659554952, 1.5581428776771598, 1.566630389398824, 1.5748441104197897, 1.5833316221414542, 1.5915453431624196, 1.6000328548840836, 1.6085203666057482, 1.6164602969260151, 1.6249478086476792, 1.6331615296686448, 1.641649041390309, 1.6498627624112747, 1.658350274132939, 1.6668377858546033, 1.6750515068755691, 1.6835390185972332, 1.6917527396181988, 1.7002402513398631, 1.7087277630615276, 1.7163939026810957, 1.7248814144027598, 1.7330951354237254, 1.7415826471453897, 1.7415826471453897, 1.7497963681663553, 1.7582838798880194, 1.7659500195075875, 1.774437531229252, 1.7829250429509163, 1.7911387639718819, 1.799626275693546, 1.8078399967145118, 1.816327508436176, 1.8248150201578404, 1.833028741178806, 1.8415162529004703, 1.849729973921436, 1.8582174856431, 1.866157415963367, 1.8746449276850314, 1.8831324394066955]\n"
     ]
    }
   ],
   "source": [
    "all_post = linearpost + linear_post_extension\n",
    "print(len(all_post), all_post)"
   ]
  },
  {
   "cell_type": "code",
   "execution_count": 144,
   "metadata": {},
   "outputs": [
    {
     "name": "stdout",
     "output_type": "stream",
     "text": [
      "228\n"
     ]
    }
   ],
   "source": [
    "tucpost = uccles.loc['2000-01-01':'2018-12-01'].index\n",
    "print(len(tucpost))\n"
   ]
  },
  {
   "cell_type": "code",
   "execution_count": 145,
   "metadata": {},
   "outputs": [
    {
     "data": {
      "text/plain": [
       "[<matplotlib.lines.Line2D at 0x1c1c9cd630>]"
      ]
     },
     "execution_count": 145,
     "metadata": {},
     "output_type": "execute_result"
    },
    {
     "data": {
      "image/png": "[encoded data removed]",
      "text/plain": [
       "<Figure size 432x288 with 1 Axes>"
      ]
     },
     "metadata": {
      "needs_background": "light"
     },
     "output_type": "display_data"
    }
   ],
   "source": [
    "plt.plot(tucpost, all_post)\n",
    "\n"
   ]
  },
  {
   "cell_type": "code",
   "execution_count": null,
   "metadata": {},
   "outputs": [],
   "source": []
  }
 ],
 "metadata": {
  "kernelspec": {
   "display_name": "Python 3",
   "language": "python",
   "name": "python3"
  },
  "language_info": {
   "codemirror_mode": {
    "name": "ipython",
    "version": 3
   },
   "file_extension": ".py",
   "mimetype": "text/x-python",
   "name": "python",
   "nbconvert_exporter": "python",
   "pygments_lexer": "ipython3",
   "version": "3.6.6"
  }
 },
 "nbformat": 4,
 "nbformat_minor": 2
}
